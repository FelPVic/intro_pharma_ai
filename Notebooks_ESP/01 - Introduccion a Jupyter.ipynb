{
 "cells": [
  {
   "cell_type": "markdown",
   "metadata": {},
   "source": [
    "# Jupyter Notebook \n",
    "\n",
    "Para facilitar aún más el inicio en el trabajo con redes neuronales, utilizamos los llamados *Jupyter Notebooks*. Un notebook nos permite estructurar el código e interactuar con él de manera más sencilla. Así como Microsoft Word nos ayuda a escribir texto, Jupyter nos ayuda a escribir código en Python.\n",
    "\n",
    "Python es uno de los lenguajes de programación de alto nivel. *\"Alto nivel\"* se refiere a la cercanía del lenguaje al lenguaje que entienden las computadoras. Python es relativamente fácil de entender y escribir para los humanos. Los lenguajes de programación de bajo nivel son mucho más difíciles de entender y escribir. La desventaja de Python debido a su *Alto nivel* es que es significativamente más lento al ejecutar código. Sin embargo, para muchos que no son científicos de la computación, la velocidad no es crítica para su proyecto. Debido a su accesibilidad, con el tiempo Python se ha establecido como uno de los lenguajes de programación principales para el aprendizaje automático y la inteligencia artificial (IA).\n",
    "\n",
    "### Usando los Jupyter Notebooks\n",
    "\n",
    "En un notebook de Python, hay dos tipos de celdas. Una contiene texto normal, como esta, y el código se escribe en el otro tipo de celda. Puedes ejecutar una celda presionando `Shift + Enter` después de hacer clic en la celda. Ejecutar (o correr) el código significa que el código en la celda será enviado como un comando a Python.\n",
    "Luego, Python interpreta este código y los comandos son ejecutados uno después del otro. \n",
    "Para navegar rápidamente entre celdas, también puedes usar las teclas de flecha.\n",
    "\n",
    "\n",
    "*Primero haz clic en la siguiente celda y ejecútala*\n",
    "Si todo ha funcionado, entonces deberia aparecer un campo con \n",
    "\n",
    "<div align=\"center\" ><code>'Mi primera celda!'</code></div >\n",
    "\n",
    "debajo de esta celda. Lo que sucede exactamente aquí se explica con más detalle en el siguiente notebook."
   ]
  },
  {
   "cell_type": "code",
   "execution_count": null,
   "metadata": {},
   "outputs": [],
   "source": [
    "\"Mi primera celda!\""
   ]
  },
  {
   "cell_type": "markdown",
   "metadata": {},
   "source": [
    "También puedes crear nuevas celdas tú mismo. Para hacer esto, haz clic en `Insert` (\"Insertar\") en la parte superior de la barra de menú y luego selecciona \"Insert cell above\" (\"Insertar celda arriba\") o \"Insert cell below\" (\"Insertar celda abajo\").\n",
    "\n",
    "\n",
    "Alternativamente, también puedes usar atajos del teclado: Presiona la tecla `A` para insertar una celda por encima de la celda actual y `B` para insertar una celda debajo de esta. Si presionas la tecla `D` dos veces consecutivas, también puedes eliminar una celda. *En Google Colab se aplican los mismos atajos, pero aquí, además, debe presionarse `Ctrl` + `M`*.\n",
    "\n",
    "Es importante que no hagas clic directamente en la celda con estas combinaciones de teclas, sino solo a la izquierda de esta. El borde de la celda debería estar azul, en lugar de verde.\n",
    "\n",
    "El siguiente notebook es `Introduccion a Python.ipynb`, donde encontrarás más detalles sobre el uso actual de Python. "
   ]
  }
 ],
 "metadata": {
  "interpreter": {
   "hash": "b2063f454e5583264956edca724ed174a35400d49c5baf96fcf9ea99fcd5830b"
  },
  "kernelspec": {
   "display_name": "Python 3 (ipykernel)",
   "language": "python",
   "name": "python3"
  },
  "language_info": {
   "codemirror_mode": {
    "name": "ipython",
    "version": 3
   },
   "file_extension": ".py",
   "mimetype": "text/x-python",
   "name": "python",
   "nbconvert_exporter": "python",
   "pygments_lexer": "ipython3",
   "version": "3.7.11"
  }
 },
 "nbformat": 4,
 "nbformat_minor": 4
}
