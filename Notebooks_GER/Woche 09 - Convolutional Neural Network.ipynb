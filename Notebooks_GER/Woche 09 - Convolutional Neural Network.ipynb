{
 "cells": [
  {
   "cell_type": "markdown",
   "metadata": {},
   "source": [
    "# Convolutional Neural Network\n",
    "\n",
    "Diese Woche beschäftigen wir uns mit Convolutional Neural Networks. Convolutional Neural Networks (CNN) werden hauptsächlich, aber nicht ausschließlich, für die Bilderkennung eingesetzt.\n",
    "\n",
    "Anders als die neuronalen Netze, die wir bisher gesehen haben, können CNNs Bilder als Matrix lesen. Das bedeutet, dass lokale Zusammenhänge nicht durch das `flatten` des Bildes verloren gehen.  \n",
    "\n",
    "![](https://miro.medium.com/max/1280/1*h01T_cugn22R2zbKw5a8hA.gif)\n",
    "\n",
    "<centering><h7> Otavio Good. 2017 \"A Visual and Intuitive Understanding of Deep Learning\" *O'Reilly AI Conference* </h7></centering>"
   ]
  },
  {
   "cell_type": "code",
   "execution_count": null,
   "metadata": {},
   "outputs": [],
   "source": [
    "import torch\n",
    "from torch import nn\n",
    "import pandas as pd\n",
    "import numpy as np\n",
    "from matplotlib import pyplot as plt\n",
    "from torch.utils import data\n",
    "\n",
    "def min_max(x):\n",
    "    return (x - np.min(x)) / (np.max(x) - np.min(x))"
   ]
  },
  {
   "cell_type": "markdown",
   "metadata": {},
   "source": [
    "Zunächst laden Sie die Trainingsdaten erneut und wandeln sie in einen `tensor` um. Insgesamt gibt es 60,000 Bilder mit 784 Pixel + eine Spalte für die Labels der Bilder. "
   ]
  },
  {
   "cell_type": "code",
   "execution_count": null,
   "metadata": {},
   "outputs": [],
   "source": [
    "train_data = pd.read_csv('https://uni-muenster.sciebo.de/s/zruPoqq9IbBlyA9/download', delimiter=',', header=None).values\n",
    "\n",
    "train_x = torch.tensor(min_max(train_data[:,1:]), dtype=torch.float32)\n",
    "train_y = torch.tensor(train_data[:,0], dtype=torch.long)\n",
    "\n",
    "print(train_x.shape, train_y.shape)"
   ]
  },
  {
   "cell_type": "markdown",
   "metadata": {},
   "source": [
    "Bisher haben wir immer Bilder als 1D-Input in unser neuronales Netz eingegeben. Diesmal wollen wir aber die 2D-Struktur verwenden. Dazu müssen wir aus einem Vektor der Länge `784` eine Matrix mit der Größe `28 x 28` machen.\n",
    "\n",
    "Dazu können wir die Funktion `vector.view(28,28)` verwenden."
   ]
  },
  {
   "cell_type": "code",
   "execution_count": null,
   "metadata": {},
   "outputs": [],
   "source": [
    "train_x[0,:].view(28,28).shape"
   ]
  },
  {
   "cell_type": "markdown",
   "metadata": {},
   "source": [
    "Wir können uns dieses Bild ansehen, aber wir können nicht viel erkennen. "
   ]
  },
  {
   "cell_type": "code",
   "execution_count": null,
   "metadata": {
    "scrolled": true
   },
   "outputs": [],
   "source": [
    "train_x[0,:].view(28,28)"
   ]
  },
  {
   "cell_type": "markdown",
   "metadata": {},
   "source": [
    "Aber mit `matplotlib` können wir Arrays als Bild darstellen. Hier gibt `cmap = \"gray\"` an, dass wir unser Farbspektrum nur in Schwarz und Weiß haben wollen."
   ]
  },
  {
   "cell_type": "code",
   "execution_count": null,
   "metadata": {},
   "outputs": [],
   "source": [
    "plt.imshow(train_x[0,:].view(28,28), cmap= \"gray\")"
   ]
  },
  {
   "cell_type": "markdown",
   "metadata": {},
   "source": [
    "Wir haben bisher nur ein Bild in das richtige Format gebracht, um dies für alle Bilder zu tun, können wir auch `.view()` verwenden. Der `tensor` von eben hatte das Format `(Höhe,Breite)`. Um alle Bilder konvertieren zu können, müssen wir dem `tensor` eine zusätzliche Dimension hinzufügen.  Der neue `tensor` sollte die folgenden Dimensionen haben: `(Anzahl der Bilder, Höhe, Breite)`. Wir haben also insgesamt drei Dimensionen.\n",
    "\n",
    "PyTorch würde uns hier jedoch einen Strich durch die Rechnung machen. Denn PyTorch kann sowohl mit schwarz-weißen (s/w) als auch mit farbigen Bildern arbeiten. In PyTorch werden farbige Bilder durch drei Matrizen dargestellt. Eine für Rot, eine für Grün und eine für Blau. Diese werden auch Channels genannt. Ein farbiges Bild hätte in PyTorch die Dimensionen `(3, Höhe, Breite)`. Die Dimension, die wir gerade für die \"Anzahl der Bilder\" verwendet haben, wird also durch die \"Anzahl der Channels\" belegt.\n",
    "\n",
    "\n",
    "![](https://miro.medium.com/max/700/1*icINeO4H7UKe3NlU1fXqlA.jpeg)\n",
    "\n",
    "<center><h7>Quelle: Mathanraj Sharma, 2019 </h7></center>\n",
    "\n",
    "PyTorch erwartet diese \"Channel Dimension\" auch für s/w Bilder. \n",
    "Deshalb stellen wir ein s/w Bild wie folgt da: `(1, Höhe, Breite)`. \n",
    "\n",
    "Daraus folgt, dass alle Bilder vom MNIST Datensatz diesem Format entsprechen müssen: `(Anzahl Bilder, 1, Höhe, Breite)`. Also insgesamt hat unser Input `tensor` 4 Dimensionen.\n",
    "\n",
    "\n",
    "\n",
    "Konvertieren Sie `train_x` zu diesem Format."
   ]
  },
  {
   "cell_type": "code",
   "execution_count": null,
   "metadata": {},
   "outputs": [],
   "source": [
    "train_x = train_x.view(_____,1,____,____)\n",
    "train_x.shape"
   ]
  },
  {
   "cell_type": "markdown",
   "metadata": {},
   "source": [
    "<details>\n",
    "<summary><b>Lösung:</b></summary>\n",
    "    \n",
    "```python \n",
    "train_x = train_x.view(60000,1,28,28)\n",
    "```\n",
    "</details>"
   ]
  },
  {
   "cell_type": "markdown",
   "metadata": {},
   "source": [
    "Sie haben nun alle Bilder in das Format `(1,28,28)` konvertiert.\n",
    "Sie können immer noch Bilder mit `plt.imshow` anzeigen.\n",
    "\n",
    "Beachten Sie, wie der `tensor` jetzt indiziert ist. `[0,0,:,:]`. Wir wählen das erste Bild und auch den ersten und einzigen Channel aus. Wir wählen zusätzlich die gesamte Höhe und Breite aus, um das Bild vollständig anzuzeigen."
   ]
  },
  {
   "cell_type": "code",
   "execution_count": null,
   "metadata": {
    "scrolled": true
   },
   "outputs": [],
   "source": [
    "plt.imshow(train_x[0,0,:,:], cmap= \"gray\")"
   ]
  },
  {
   "cell_type": "markdown",
   "metadata": {},
   "source": [
    "Wie letzte Woche können Sie einen `DataLoader` verwenden. Dazu müssen Sie zuerst ein PyTorch Dataset erstellen. Mit `next(iter())` können Sie den ersten Minibatches des `DataLoaders` ausgeben."
   ]
  },
  {
   "cell_type": "code",
   "execution_count": null,
   "metadata": {},
   "outputs": [],
   "source": [
    "torch_train = data.TensorDataset(_____, ____)\n",
    "train_loader = data.DataLoader(______, batch_size=32)\n",
    "\n",
    "batch_x, batch_y =next(iter(train_loader))\n",
    "print(batch_x.shape, batch_y.shape)"
   ]
  },
  {
   "cell_type": "markdown",
   "metadata": {},
   "source": [
    "<details>\n",
    "<summary><b>Lösung:</b></summary>\n",
    "    \n",
    "```python \n",
    "torch_train = data.TensorDataset(train_x,train_y)\n",
    "train_loader = data.DataLoader(torch_train, batch_size=32)\n",
    "\n",
    "batch_x, batch_y =next(iter(train_loader))\n",
    "print(batch_x.shape, batch_y.shape)\n",
    "```\n",
    "</details>"
   ]
  },
  {
   "cell_type": "markdown",
   "metadata": {},
   "source": [
    "Wie Sie sehen können, hat der `batch_x` die Dimensionen `[32, 1, 28, 28]`. Also `32` Bilder, die Größe unseres Batches, `1` Channel, `28` Pixel in der Höhe und `28` in der Breite."
   ]
  },
  {
   "cell_type": "markdown",
   "metadata": {},
   "source": [
    "## CNNs in PyTorch erstellen.\n",
    "\n",
    "\n",
    "Soweit haben wir unsere Daten im richtigen Format, jetzt geht es um die Erstellung eines `CNN` in PyTorch. Genauso wie es in PyTorch `nn.Linear` Layers gibt, gibt es auch Convolutional Layers im `nn` Modul.\n",
    "\n",
    "`nn.Conv2d()` ist eine solche Layer. Bevor wir sie benutzen, besprechen wir kurz die wichtigsten Parameter.\n",
    "\n",
    "- `in_channels` die Anzahl der Channel, die das Bild vor der Convolution hat \n",
    "- `out_channels` wie viele Channel das Bild nach der Convolution.haben soll. Oder wie viele Filter wir über das Bild laufen lassen.\n",
    "- `kernel_size` wie groß der Kernel ist, also die Höhe/Breite in Pixeln.\n",
    "\n",
    "\n",
    "\n"
   ]
  },
  {
   "cell_type": "code",
   "execution_count": null,
   "metadata": {},
   "outputs": [],
   "source": [
    "conv1 = nn.Conv2d(in_channels=1, out_channels=3, kernel_size=3)"
   ]
  },
  {
   "cell_type": "code",
   "execution_count": null,
   "metadata": {},
   "outputs": [],
   "source": [
    "out = conv1(batch_x)\n",
    "out.shape"
   ]
  },
  {
   "cell_type": "markdown",
   "metadata": {},
   "source": [
    "Wie Sie sehen können, hat sich die Größe des Minibatches geändert. Wir haben immer noch 32 Bilder, aber wie angegeben, haben wir jetzt 3 Channels. Die Höhe und Breite unseres Bildes haben sich ebenfalls geändert. Wir haben 2 Pixel pro Dimension verloren. Das liegt an der Funktionsweise der Convolution.\n",
    "\n",
    "![](https://miro.medium.com/max/700/1*L4T6IXRalWoseBncjRr4wQ@2x.gif)\n",
    "<center><h7>Quelle: Arden Dertat, 2017 </h7></center>\n",
    "\n",
    "\n",
    "Hier ist ein Beispiel dafür, warum eine Kernelgröße von 3 unser Outputbild um zwei Pixel kleiner macht. Links ist das Inputbild und rechts das Outputbild zu sehen. Da wir den Kernel nicht über den Rand des Bildes schieben können, \"verlieren\" wir den äußeren Rand des Bildes.\n",
    "\n",
    "Um zu verhindern, dass diese Informationen verloren gehen, können wir das Bild *padden*. Auf diese Weise vergrößern wir das Bild, zum Beispiel mit Pixeln, die den Wert Null haben.\n",
    "\n",
    "![](https://miro.medium.com/max/700/1*W2D564Gkad9lj3_6t9I2PA@2x.gif)\n",
    "<center><h7>Quelle: Arden Dertat, 2017 </h7></center>\n",
    "\n",
    "Durch das Padding, kann der Kernel einmal über das gesamte Bild geschoben werden.\n",
    "Wir können die Breite des Paddings auch als Parameter in `Conv2d` mitgeben."
   ]
  },
  {
   "cell_type": "code",
   "execution_count": null,
   "metadata": {},
   "outputs": [],
   "source": [
    "conv1 = nn.Conv2d(in_channels=1, out_channels=3, kernel_size=3, padding =1)\n",
    "out = conv1(batch_x)\n",
    "out.shape"
   ]
  },
  {
   "cell_type": "markdown",
   "metadata": {},
   "source": [
    "Durch das Padding schrumpft das Bild nicht mehr. Da wir jetzt `3` Channels haben, können wir das Bild immer noch mit `plt.imshow` anzeigen.  Dazu müssen wir ein Bild aus dem Minibatch auswählen und den Befehl `detach()` verwenden, um die von `autograd` gespeicherten Gradienten zu entfernen.\n",
    "\n",
    "*Ein Bild wie dieses kann nur als Beispiel verwendet werden, um die Transformation zu veranschaulichen. Die tatsächlichen Farben und Intensitäten sind hier irrelevant, da diese vom Netzwerk willkürlich festgelegt sind.* "
   ]
  },
  {
   "cell_type": "code",
   "execution_count": null,
   "metadata": {},
   "outputs": [],
   "source": [
    "plt.imshow(min_max(out.detach().numpy()[0].transpose((1, 2, 0))))"
   ]
  },
  {
   "cell_type": "markdown",
   "metadata": {},
   "source": [
    "Sie können immer noch eine 5 erkennen, aber dieses Mal in Farbe. Wie oben beschrieben, sind die Farben nicht zur Interpretation geeignet. Sie dienen nur dazu, die Diversifizierung des Inputs zu verdeutlichen. \n",
    "\n",
    "Die zweite neue Layer, die Sie heute verwenden werden, ist `nn.MaxPool2d()`. \n",
    "\n",
    "Diese Ebene wird als **Pooling**-Layer bezeichnet.\n",
    "\n",
    "\n",
    "![](https://miro.medium.com/max/700/1*ReZNSf_Yr7Q1nqegGirsMQ@2x.png)\n",
    "<center><h7>Quelle: Arden Dertat, 2017 </h7></center>\n",
    "\n",
    "Das Pooling Layers führen zu einer bewussten Reduzierung der Bildgröße tiefer im Netzwerk. Dies bedeutet, dass weniger Parameter (Weights) benötigt werden, was dazu führt, dass unsere Netzwerke schneller trainieren. Wenn Sie ein Bild (größer als 28 x 28 Pixel) betrachten, erkennen Sie nicht jeden einzelnen Pixel, sondern Pixel in einer bestimmten Nähe verschmelzen miteinander. Pooling funktioniert auf ähnliche Weise. Hier werden mehrere Pixel mit Hilfe des Maximalwertes kombiniert.\n",
    "Weniger Parameter bedeuten auch eine geringere Wahrscheinlichkeit auf Overfitting. \n",
    "\n",
    "Die am häufigsten verwendete Pooling Layer ist die Max-Pooling Layer. Hier wird der größte Wert in der Region als neuer Wert für den Output gewählt. Es gibt natürlich eine Vielzahl anderer [Pooling-Layers](https://pytorch.org/docs/stable/nn.html#pooling-layers).\n",
    "Neben der Kernelgröße, der Größe des Quadrats, das wir zusammenfassen wollen, geben wir diesmal auch den `stride` an. Der Stride legt fest, um wie viele Pixel wir den Pooling Kernel verschieben. \n",
    "\n",
    "\n",
    "![](https://epynn.net/_images/pool-01.svg)\n",
    "<center><h7>Source: Florian Malard and Stéphanie Olivier-Van Stichele - EPyNN </h7></center>\n",
    "\n",
    "\n",
    "[Hier](https://ezyang.github.io/convolution-visualizer/index.html) ist eine Website mit der Sie den Effekt von verschiedenen Parametern auf die Convolution visualisieren können."
   ]
  },
  {
   "cell_type": "code",
   "execution_count": null,
   "metadata": {
    "scrolled": true
   },
   "outputs": [],
   "source": [
    "pool1 = nn.MaxPool2d(kernel_size = 2, stride = 2)"
   ]
  },
  {
   "cell_type": "markdown",
   "metadata": {},
   "source": [
    "Sie können nun den Output des 2DConv (`out`) als Input für die Pooling-Layer verwenden.  "
   ]
  },
  {
   "cell_type": "code",
   "execution_count": null,
   "metadata": {
    "scrolled": true
   },
   "outputs": [],
   "source": [
    "out2 = pool1(____)\n",
    "out2.shape"
   ]
  },
  {
   "cell_type": "markdown",
   "metadata": {},
   "source": [
    "<details>\n",
    "<summary><b>Lösung:</b></summary>\n",
    "    \n",
    "```python \n",
    "out2 = pool1(out)\n",
    "```\n",
    "</details>\n",
    "\n",
    "Da sich an der Anzahl der Channels nichts geändert hat, können wir dieses Bild immer noch visualisieren.\n",
    "Wir können sehen, dass das Bild geschrumpft ist, dennoch kann man die 5 noch sehen."
   ]
  },
  {
   "cell_type": "code",
   "execution_count": null,
   "metadata": {
    "scrolled": false
   },
   "outputs": [],
   "source": [
    "plt.imshow(min_max(out2.detach().numpy()[0].transpose((1, 2, 0))))"
   ]
  },
  {
   "cell_type": "markdown",
   "metadata": {},
   "source": [
    "Mit `nn.Sequential` kann man auch mehrere Convolution/Pooling Layers hintereinander schalten. Wichtig, wir brauchen auch wieder eine nichtlineare Aktivierungsfunktion, diese wird normalerweise nach der Convolution eingefügt.\n",
    "\n",
    "Füllen Sie den fehlenden Code:"
   ]
  },
  {
   "cell_type": "code",
   "execution_count": null,
   "metadata": {},
   "outputs": [],
   "source": [
    "cnn = nn.Sequential(nn.Conv2d(in_channels=_, out_channels=3, kernel_size=3, padding =1),\n",
    "                   nn.ReLU(),\n",
    "                   nn.MaxPool2d(kernel_size = 2,stride = 2),\n",
    "                   nn.Conv2d(in_channels= _ , out_channels=6, kernel_size=3, padding =1),\n",
    "                   nn.______,\n",
    "                   nn.MaxPool2d(kernel_size = 2,stride = 2))"
   ]
  },
  {
   "cell_type": "markdown",
   "metadata": {},
   "source": [
    "<details>\n",
    "<summary><b>Lösung:</b></summary>\n",
    "    \n",
    "```python \n",
    "cnn = nn.Sequential(nn.Conv2d(in_channels=1, out_channels=3, kernel_size=3, padding =1),\n",
    "                   nn.ReLU(),\n",
    "                   nn.MaxPool2d(kernel_size = 2,stride = 2),\n",
    "                   nn.Conv2d(in_channels= 3 , out_channels=6, kernel_size=3, padding =1),\n",
    "                   nn.ReLU(),\n",
    "                   nn.MaxPool2d(kernel_size = 2,stride = 2))\n",
    "```\n",
    "</details>"
   ]
  },
  {
   "cell_type": "markdown",
   "metadata": {},
   "source": [
    "Jetzt können wir den Batch `batch_x` einmal durch das Netzwerk führen. "
   ]
  },
  {
   "cell_type": "code",
   "execution_count": null,
   "metadata": {},
   "outputs": [],
   "source": [
    "cnn(batch_x).shape"
   ]
  },
  {
   "cell_type": "markdown",
   "metadata": {},
   "source": [
    "Diese Output ist jedoch noch nicht für Vorhersagen geeignet. Dazu müssen wir die Bilder wieder in ein herkömmliches neuronales Netz einspeisen. Diese akzeptieren jedoch nur Inputs in Form von Vektoren. Also konvertieren wir jedes Bild zurück in einen Vektor. \n",
    "\n",
    "Der Output `tensor` hat die `shape` `[32, 6, 7, 7]` und sollte zu einem `tensor` der Größe `[32, 6 x 7 x 7]` = `[32, 294]` werden.\n",
    "\n",
    "Dazu können wir die Layer `nn.Flatten(starting_dim)` verwenden. Hier müssen wir nur den Parameter `starting_dim` definieren. Dieser bestimmt, ab welcher Dimension wir die Dimensionen zusammenführen. Da wir für jedes Bild einen eigenen Vektor wollen, verwenden wir `starting_dim = 1`. Mit `cnn.add_module()` können wir zusätzliche Layers zu unserem Netzwerk hinzufügen."
   ]
  },
  {
   "cell_type": "code",
   "execution_count": null,
   "metadata": {},
   "outputs": [],
   "source": [
    "cnn.add_module(\"flatten\",nn.Flatten(1))"
   ]
  },
  {
   "cell_type": "code",
   "execution_count": null,
   "metadata": {},
   "outputs": [],
   "source": [
    "cnn(batch_x).shape"
   ]
  },
  {
   "cell_type": "markdown",
   "metadata": {},
   "source": [
    "Die Größe des Batches ist jetzt `(32,294)`. `32` ist immer noch die Anzahl der Bilder im Batch (Dimension 0), aber unsere zweite Dimension ist jetzt `294`. Das heißt, jedem Bild im Stapel ist ein Vektor zugeordnet. Jetzt können wir auch eine traditionelle lineare Layer hinzufügen. Vor der Layer `nn.Linear` fügen wir jedoch eine zusätzliche BatchNorm und eine Dropout-Layer hinzu."
   ]
  },
  {
   "cell_type": "code",
   "execution_count": null,
   "metadata": {},
   "outputs": [],
   "source": [
    "cnn.add_module(\"bn\", nn.BatchNorm1d(____))\n",
    "cnn.add_module(\"dp\", nn._________(0.2))\n",
    "cnn.add_module(\"fc\", nn.Linear(____,___))"
   ]
  },
  {
   "cell_type": "markdown",
   "metadata": {},
   "source": [
    "<details>\n",
    "<summary><b>Lösung:</b></summary>\n",
    "    \n",
    "```python \n",
    "cnn.add_module(\"bn\", nn.BatchNorm1d(294))\n",
    "cnn.add_module(\"dp\", nn.Dropout(0.2))\n",
    "cnn.add_module(\"fc\", nn.Linear(294,10))\n",
    "```\n",
    "</details>"
   ]
  },
  {
   "cell_type": "markdown",
   "metadata": {},
   "source": [
    "Nun können Sie die Loss Funktion und Optimizer festlegen. Durch das Benutzen von PyTorchs `loaders` und dem `nn` Modul, können Sie denselben `for-loop` von letzter Woche ohne Änderung kopieren. "
   ]
  },
  {
   "cell_type": "code",
   "execution_count": null,
   "metadata": {},
   "outputs": [],
   "source": [
    "loss_funktion = nn.CrossEntropyLoss()\n",
    "updaten =  torch.optim.Adam(_____________, lr =0.001)"
   ]
  },
  {
   "cell_type": "markdown",
   "metadata": {},
   "source": [
    "<details>\n",
    "<summary><b>Lösung:</b></summary>\n",
    "    \n",
    "```python \n",
    "loss_funktion = nn.CrossEntropyLoss()\n",
    "updaten =  torch.optim.Adam(cnn.parameters(), lr =0.001)\n",
    "```\n",
    "</details>\n"
   ]
  },
  {
   "cell_type": "code",
   "execution_count": null,
   "metadata": {},
   "outputs": [],
   "source": [
    "EPOCHS = 2\n",
    "for i in range(EPOCHS):\n",
    "    loss_list = [] # diese Liste speichtert den Loss jedes Minibatches\n",
    "    cnn.train() \n",
    "    for minibatch in train_loader: # for-loop geht durch alle Minibatches\n",
    "        images, labels = minibatch # Minibatch wird in Bilder und Labels geteilt\n",
    "\n",
    "        updaten.zero_grad()\n",
    "        output = cnn(images) # Forward Propagation\n",
    "        loss   = loss_funktion(output, labels)\n",
    "        loss.backward()\n",
    "        loss_list.append(loss.item())\n",
    "        updaten.step()\n",
    "    cnn.eval()    \n",
    "    output = cnn(train_x)\n",
    "    train_acc=((output.max(dim=1)[1]==train_y).sum()/float(output.shape[0])).item()\n",
    "    print(\n",
    "        \"Training Loss: %.2f Training Accuracy: %.2f\"\n",
    "        % (np.mean(loss_list), train_acc)\n",
    "    )"
   ]
  },
  {
   "cell_type": "markdown",
   "metadata": {},
   "source": [
    "Zuletzt evaluieren wir das Netzwerk auf dem Testdatensatz."
   ]
  },
  {
   "cell_type": "code",
   "execution_count": null,
   "metadata": {},
   "outputs": [],
   "source": [
    "test_data = pd.read_csv('https://uni-muenster.sciebo.de/s/iTE4EXartblI4Ti/download', delimiter=',', header = None).values\n",
    "test_x = torch.tensor(min_max(test_data[:,1:]), dtype=torch.float32)\n",
    "test_y = torch.tensor(test_data[:,0], dtype=torch.long)\n",
    "test_x = test_x.reshape(test_x.shape[0],1,28,28)\n",
    "print(test_x.shape, test_y.shape)"
   ]
  },
  {
   "cell_type": "code",
   "execution_count": null,
   "metadata": {},
   "outputs": [],
   "source": [
    "output = cnn(test_x)\n",
    "acc=((output.max(dim=1)[1]==test_y).sum()/float(output.shape[0])).item()\n",
    "acc"
   ]
  },
  {
   "cell_type": "markdown",
   "metadata": {},
   "source": [
    "# Übungsaufgabe\n",
    "\n",
    "Wieder verwenden wir die Toxizitätsdaten für die Übungsaufgabe. Diesmal liegen die Moleküle jedoch nicht im SMILES-Format vor, sondern die Strukturen sind als Bild gespeichert. **Sie werden wieder die Toxizität vorhersagen, aber dieses Mal auf der Grundlage des Bildes**. \n",
    "\n",
    "In der Tat ist dies [bereits versucht worden](https://www.sciencedirect.com/science/article/abs/pii/S0169743919303417). \n",
    "\n",
    "Die Bilder bestehen aus `64 x 64` Pixeln. Sie werden sehen, dass dies kaum ausreicht, um die Molekularstruktur zu erkennen.  Wir sind jedoch an den von der Universität zur Verfügung gestellten Speicherplatz gebunden.\n",
    "Tatsächlich ändert in diesem Fall aber eine höhere Auflösung nichts am Problem.\n",
    "\n",
    "## Starten Sie den Kernel neu, bevor Sie die Aufgabe starten!\n"
   ]
  },
  {
   "cell_type": "code",
   "execution_count": null,
   "metadata": {},
   "outputs": [],
   "source": [
    "import numpy as np\n",
    "import torch\n",
    "from torch import nn\n",
    "from torch.utils import data\n",
    "from matplotlib import pyplot as plt\n",
    "import pandas as pd\n",
    "from sklearn.model_selection import train_test_split\n",
    "import torchvision.transforms as T\n",
    "def min_max(x):\n",
    "    return (x - np.min(x)) / (np.max(x) - np.min(x))"
   ]
  },
  {
   "cell_type": "markdown",
   "metadata": {},
   "source": [
    "Teilen Sie zunächst den Datensatz in Traings- und Testset. Wichtig: die letzte Spalte enthält die Information über die Toxiziät. Dies ist also unsere zu vorhersagende Variable."
   ]
  },
  {
   "cell_type": "code",
   "execution_count": null,
   "metadata": {},
   "outputs": [],
   "source": [
    "mol_img_data = torch.tensor(pd.read_csv('https://uni-muenster.sciebo.de/s/bUVM12XtVlQY6js/download',\n",
    "                                        delimiter=',', \n",
    "                                        header =None).values,\n",
    "                            dtype = torch.float32)\n",
    "train, test=train_test_split(_______________,______________,_________, random_state=1234)\n",
    "\n",
    "train_x = train[______]\n",
    "train_y = train[______]\n",
    "test_x = test[______]\n",
    "test_y = test[______]\n",
    "\n",
    "\n",
    "print(train_x.shape, train_y.shape)"
   ]
  },
  {
   "cell_type": "markdown",
   "metadata": {},
   "source": [
    "So verpixelt sehen die Bilder aus:"
   ]
  },
  {
   "cell_type": "code",
   "execution_count": null,
   "metadata": {},
   "outputs": [],
   "source": [
    "plt.imshow(train_x[10,:].view(64,64), cmap= \"gray\")"
   ]
  },
  {
   "cell_type": "markdown",
   "metadata": {},
   "source": [
    "Als nächstes konvertieren Sie das Test- und Trainingsset. Denken Sie daran, dass die Dimensionen wie folgt ausehen sollen. `Anzahl Bilder, Anzahl Channel, Höhe, Breite`."
   ]
  },
  {
   "cell_type": "code",
   "execution_count": null,
   "metadata": {},
   "outputs": [],
   "source": [
    "train_x = train_x.view(__________________________)\n",
    "test_x = test_x.view(___________________________)"
   ]
  },
  {
   "cell_type": "code",
   "execution_count": null,
   "metadata": {},
   "outputs": [],
   "source": [
    "torch_train = data.TensorDataset(______________________)\n",
    "train_loader = data.DataLoader(__________________, batch_size=32)\n",
    "\n",
    "batch_x, batch_y =next(iter(train_loader))\n",
    "print(batch_x.shape, batch_y.shape)"
   ]
  },
  {
   "cell_type": "markdown",
   "metadata": {},
   "source": [
    "Wenn Sie bis jetzt alles richtig gemacht haben, sollte `batch_x` die Dimensionen `[32, 1, 64, 64]` und `batch_y` die Dimensionen `[32]` haben. Füge dem Netz mindestens 2 weitere Convolutionlayers hinzu. Stellen Sie sicher, dass Sie auch Pooling-Layers und nicht-lineare Aktivierungsfunktionen verwenden."
   ]
  },
  {
   "cell_type": "code",
   "execution_count": null,
   "metadata": {},
   "outputs": [],
   "source": [
    "cnn = nn.Sequential(nn.Conv2d(in_channels= , out_channels , kernel_size , padding ),\n",
    "                   \n",
    "                   \n",
    "                    \n",
    "                   \n",
    "                   \n",
    "                   )"
   ]
  },
  {
   "cell_type": "code",
   "execution_count": null,
   "metadata": {
    "scrolled": true
   },
   "outputs": [],
   "source": [
    "cnn(batch_x).shape"
   ]
  },
  {
   "cell_type": "markdown",
   "metadata": {},
   "source": [
    "Fügen Sie nun eine `Flatten` Layer hinzu. Ab welcher Dimension fangen wir an die Werte zusammen zu fügen?"
   ]
  },
  {
   "cell_type": "code",
   "execution_count": null,
   "metadata": {},
   "outputs": [],
   "source": [
    "cnn.add_module(\"flatten\",nn.Flatten(_))"
   ]
  },
  {
   "cell_type": "code",
   "execution_count": null,
   "metadata": {},
   "outputs": [],
   "source": [
    "cnn(batch_x).shape"
   ]
  },
  {
   "cell_type": "markdown",
   "metadata": {},
   "source": [
    "Als letztes fügen Sie eine `BatchNorm`, `Dropout` und `Linear` Layer hinzu. Achten Sie hierbei auf die richtigen Input/Output Dimensionen. "
   ]
  },
  {
   "cell_type": "code",
   "execution_count": null,
   "metadata": {},
   "outputs": [],
   "source": [
    "cnn.add_module(\"bn\", _______________)\n",
    "cnn.add_module(\"dp\", _______________)\n",
    "cnn.add_module(\"fc\", _______________)"
   ]
  },
  {
   "cell_type": "code",
   "execution_count": null,
   "metadata": {},
   "outputs": [],
   "source": [
    "cnn(batch_x).shape"
   ]
  },
  {
   "cell_type": "markdown",
   "metadata": {},
   "source": [
    "Die `shape` solte jetzt `[32, 1]` sein. Füllen Sie den Rest des Trainingsloops aus. "
   ]
  },
  {
   "cell_type": "code",
   "execution_count": null,
   "metadata": {},
   "outputs": [],
   "source": [
    "loss_funktion = ________________________\n",
    "updaten =  torch.optim.Adam(_______________, lr =0.0003)\n",
    "EPOCHS = 30\n",
    "\n",
    "\n",
    "for i in range(EPOCHS):\n",
    "    loss_list = [] # diese Liste speichter den Loss jedes Minibatches\n",
    "    \n",
    "    ___.train() \n",
    "    for minibatch in train_loader: # for-loop geht durch alle minibatches\n",
    "        images, labels = minibatch # minibatch wird in Bilder und Labels geteilt\n",
    "        ________.zero_grad()\n",
    "        output = cnn(_______) # Forward Propagation\n",
    "        loss   = loss_funktion(output.squeeze(), labels)\n",
    "        loss.backward()\n",
    "        loss_list.append(loss.item())\n",
    "        updaten.step()\n",
    "    ___.eval()    \n",
    "    \n",
    "    # Trainings Evaluation\n",
    "    output = cnn(train_x)\n",
    "    train_acc = torch.sum((output>0).squeeze().int() == train_y)/train_y.shape[0]\n",
    "    # Test Evaluation\n",
    "    output = cnn(test_x)\n",
    "    loss   = loss_funktion(output.squeeze(), test_y)\n",
    "    test_acc = torch.sum((output>0).squeeze().int() == test_y)/test_y.shape[0]\n",
    "    \n",
    "    print(\n",
    "        \"Training Loss: %.2f Training Accuracy: %.2f | Test Loss: %.2f  Test Accuracy: %.2f\"\n",
    "        % (np.mean(loss_list), train_acc, loss.item(),test_acc )\n",
    "    )"
   ]
  },
  {
   "cell_type": "markdown",
   "metadata": {},
   "source": [
    "Wie Sie sehen können, funktioniert das nur mäßig. Mit Fingerprints funktioniert es definitiv besser.\n",
    "Grundsätzlich ist es schwieriger, CNNs zu trainieren als simplere neuronale Netzwerke. \n",
    "Darüber hinaus ist die grafische Darstellung von Molekülen im Vergleich zu SMILES oder Fingerprints/Deskriptoren sehr ineffizient. \n",
    "\n",
    "In unserem Fall könnte man argumentieren, dass unser Modell auch besser lernen könnte, wenn wir größere und farbige Bilder hätten. Das ist wahrscheinlich richtig. Aber selbst in der oben genannten Veröffentlichung konnten die CNNs einfach Netzwerke mit Fingerpints nicht schlagen.\n",
    "Man kann sagen, dass Bilder keine angemessene Darstellung von Molekülen sind. Zumindest nicht für das maschinelle Lernen.\n",
    "\n",
    "Das soll nicht heißen, dass es nicht nützlich sein kann, CNN auf Bildern von Molekülen zu trainieren. \n",
    "Zum Beispiel Netzwerke, die Strukturen erkennen und die entsprechenden SMILES ausgeben. Dies kann dazu verwendet werden, Patente und chemische Veröffentlichungen schnell zu durchsuchen.\n",
    "\n",
    "\n",
    "Wie zum Beispiel hier:\n",
    "https://jcheminf.biomedcentral.com/articles/10.1186/s13321-021-00538-8"
   ]
  }
 ],
 "metadata": {
  "interpreter": {
   "hash": "b2063f454e5583264956edca724ed174a35400d49c5baf96fcf9ea99fcd5830b"
  },
  "kernelspec": {
   "display_name": "Python 3",
   "language": "python",
   "name": "python3"
  },
  "language_info": {
   "codemirror_mode": {
    "name": "ipython",
    "version": 3
   },
   "file_extension": ".py",
   "mimetype": "text/x-python",
   "name": "python",
   "nbconvert_exporter": "python",
   "pygments_lexer": "ipython3",
   "version": "3.8.5"
  }
 },
 "nbformat": 4,
 "nbformat_minor": 4
}
