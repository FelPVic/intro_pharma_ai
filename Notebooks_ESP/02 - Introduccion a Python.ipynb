{
 "cells": [
  {
   "attachments": {},
   "cell_type": "markdown",
   "metadata": {},
   "source": [
    "<center><img src=\"https://i0.wp.com/lightroastcomics.com/wp-content/uploads/2018/04/parselfingers.png?resize=600%2C612\" style=\"width: 400px;\"></center>\n",
    "<h8><center>Fuente: Light Roast Comics, http://lightroastcomics.com</center></h8>"
   ]
  },
  {
   "attachments": {},
   "cell_type": "markdown",
   "metadata": {},
   "source": [
    "# Pequeña intrducción a Python\n",
    "\n",
    "\n",
    "En este notebook, aprenderemos las bases de Python. Para esto, cubriremos las funciones más importantes y las estructuras de datos en Python.\n",
    "Como se discutió en el primer notebook, el código de Python puede ejecutarse usando Jupyter notebooks. Para una explicación más detallada de cómo usar estos notebooks, consulta el primer notebook.\n"
   ]
  },
  {
   "attachments": {},
   "cell_type": "markdown",
   "metadata": {},
   "source": [
    "## 1. Print()\n",
    "\n",
    "Una de las funciones más importantes de Python es la función <code>print()</code>. Con esta puedes acceder a la información o texto desde Python y hacerlo visible. Siempre imprimirá lo que esté contenido dentro de <code>()</code>."
   ]
  },
  {
   "cell_type": "code",
   "execution_count": null,
   "metadata": {},
   "outputs": [],
   "source": [
    "print(\"Hello World\")"
   ]
  },
  {
   "attachments": {},
   "cell_type": "markdown",
   "metadata": {},
   "source": [
    "Por simplicidad, el notebook de Python automáticamente imprime el resultado de la última línea en una celda. Incluso sin usar la función <code>print()</code>.\n",
    "\n",
    "El símbolo de numeral (también llamado almohadilla o Hashtag) `#` nos permite añadir comentarios al código. Estos son ignoradas por Python y nos permiten incluir información valiosa para el usuario."
   ]
  },
  {
   "cell_type": "code",
   "execution_count": null,
   "metadata": {},
   "outputs": [],
   "source": [
    "\"Hello\"  # La primera línea no será impresa a menos de que se utilice la función 'print()'\n",
    "\"World\""
   ]
  },
  {
   "attachments": {},
   "cell_type": "markdown",
   "metadata": {},
   "source": [
    "Si deseas imprimir texto con la función `print()`, es importante que esté escrito entre comillas <code>\" \"</code>. Estas comillas le indican a Python que trate los caracteres entre ellas `\" \"` como texto simple. Una palabra u oración escrita entre `\" \"`  se denomina `string`.\n",
    "\n",
    "Sin las <code>\" \"</code>, ocurre lo siguiente:"
   ]
  },
  {
   "cell_type": "code",
   "execution_count": null,
   "metadata": {},
   "outputs": [],
   "source": [
    "Hello"
   ]
  },
  {
   "attachments": {},
   "cell_type": "markdown",
   "metadata": {},
   "source": [
    "<center><img src=\"https://tenor.com/view/monkey-pissed-mad-angry-furious-gif-4720563.gif\"></center>"
   ]
  },
  {
   "attachments": {},
   "cell_type": "markdown",
   "metadata": {},
   "source": [
    "# 2. Variables\n",
    "\n",
    "Tienes tu primer error :) Pero tranquilo lo resolveremos rápidamente. <br>\n",
    "`Hello` no esta definido. Este error ocurre, porque el `string` no es reconocido por Python como un `string`. <br> Palabras o caracteres que no estén escritos entre `\" \"`, son **variables**. Estas tienen que ser definidas previamente. Las variables pueden contener números, `strings` o incluso listas. Se define una variable usando `=`.\n",
    "\n",
    "Por ejemplo:"
   ]
  },
  {
   "cell_type": "code",
   "execution_count": null,
   "metadata": {},
   "outputs": [],
   "source": [
    "x = \"Hello\"\n",
    "print(x)"
   ]
  },
  {
   "attachments": {},
   "cell_type": "markdown",
   "metadata": {},
   "source": [
    "`x` ahora *contiene* el string `\"Hello\"`.   \n",
    "El contenido de `x` seguirá estando disponible para las siguientes celdas. Esto significa que incluso en una nueva celda puedes llamar a `print(x)` y se mostrará `Hello` como salida.\n",
    "\n",
    "Si redefinimos `x`, por ejemplo dando a `x` un nuevo valor, entonces los valores antiguos serán sobrescritos.\n",
    "\n",
    "**Importante:**\n",
    "La información almacenada o creada en una celda también esta disponible en las siguientes celdas que se ejecuten. El orden físico de las celdas no es importante aquí, solo el orden en el cual las celdas son ejecutadas."
   ]
  },
  {
   "cell_type": "code",
   "execution_count": null,
   "metadata": {},
   "outputs": [],
   "source": [
    "print(\"Este es el antiguo valor de x:\")\n",
    "print(x)\n",
    "\n",
    "\n",
    "x = 1\n",
    "print()\n",
    "print(\"Este es el nuevo valor de x: \")\n",
    "print(x)"
   ]
  },
  {
   "attachments": {},
   "cell_type": "markdown",
   "metadata": {},
   "source": [
    "###  2.1 Números\n",
    "Como puedes ver, las variables también pueden contener números. Los números enteros (sin punto decimal) se almacenan como `integer`. Los números con punto decimal se almacenan como `float`. Las operaciones matemáticas como suma, resta, multiplicación y división (`+`, `-`, `*`,`/`) también se pueden usar y se comportan exactamente como lo harían en una calculadora."
   ]
  },
  {
   "cell_type": "code",
   "execution_count": null,
   "metadata": {
    "scrolled": true
   },
   "outputs": [],
   "source": [
    "2+(5*3)/1.2"
   ]
  },
  {
   "cell_type": "code",
   "execution_count": null,
   "metadata": {},
   "outputs": [],
   "source": [
    "print(\"5 + 2 igual\")\n",
    "print(5 + 2)\n",
    "\n",
    "\n",
    "print(\"5 - 2 igual\")\n",
    "print(5 - 2)\n",
    "\n",
    "\n",
    "print(\"5 * 2 igual\")\n",
    "print(5 * 2)\n",
    "\n",
    "\n",
    "print(\"1 / 2 igual\")\n",
    "print(1 / 2)\n"
   ]
  },
  {
   "attachments": {},
   "cell_type": "markdown",
   "metadata": {},
   "source": [
    "Las mismas operaciones también funcionan con variables, siempre y cuando contengan `floats` o `integers`."
   ]
  },
  {
   "cell_type": "code",
   "execution_count": null,
   "metadata": {},
   "outputs": [],
   "source": [
    "x = 5\n",
    "y = 2\n",
    "\n",
    "print(x + y)\n",
    "print(x - y)\n",
    "print(x * y)\n",
    "print(x / y)"
   ]
  },
  {
   "attachments": {},
   "cell_type": "markdown",
   "metadata": {},
   "source": [
    "### 2.2 Booleanos\n",
    "\n",
    "Los Booleanos son otro tipo de variable. Los Booleanos pueden ser `True` ('verdadero') o `False` ('falso'). Podemos usar los booleanos para comparar valores:"
   ]
  },
  {
   "cell_type": "code",
   "execution_count": null,
   "metadata": {},
   "outputs": [],
   "source": [
    "5==5"
   ]
  },
  {
   "attachments": {},
   "cell_type": "markdown",
   "metadata": {},
   "source": [
    "Como vez, `==` se utiliza para comparar valores. El simbolo `=` se utiliza para asignar valores a variables.<br>\n",
    "`==` verifica si dos valores o variables son idénticos.<br> El simbolo`!=` verifica si dos valores no son iguales. `>` y `<` funciona como en matemáticas y verifican si un valor es mayor o menor que otro valor.\n",
    "\n",
    "También es posible hacer operaciones matemáticas con los booleanos:"
   ]
  },
  {
   "cell_type": "code",
   "execution_count": null,
   "metadata": {},
   "outputs": [],
   "source": [
    "True + True"
   ]
  },
  {
   "attachments": {},
   "cell_type": "markdown",
   "metadata": {},
   "source": [
    "Esto no es nada especial, pero muestra que al booleano `True` se le asigna el valor de `1` y a `False` se le asigna el valor de `0`. <br>Podemos verificar esto con:"
   ]
  },
  {
   "cell_type": "code",
   "execution_count": null,
   "metadata": {},
   "outputs": [],
   "source": [
    "1==True "
   ]
  },
  {
   "attachments": {},
   "cell_type": "markdown",
   "metadata": {},
   "source": [
    "Podemos comparar `strings` y variables:"
   ]
  },
  {
   "cell_type": "code",
   "execution_count": null,
   "metadata": {},
   "outputs": [],
   "source": [
    "\"Hello\" == \"Hello\""
   ]
  },
  {
   "cell_type": "code",
   "execution_count": null,
   "metadata": {},
   "outputs": [],
   "source": [
    "x = 5\n",
    "y = 8\n",
    "x == y"
   ]
  },
  {
   "attachments": {},
   "cell_type": "markdown",
   "metadata": {},
   "source": [
    "### 2.3 Listas\n",
    "\n",
    "Mas allá de los `strings`, `integers` y `floats` otro tipo importante de variable son las listas. Las listas pueden contener múltiples valores y se crean con `[]` o `list()`:\n",
    "\n",
    "`x = [2,4,6,8]`\n",
    "\n",
    "`x` ahora es una lista con los valores 2,4,6,8. Las listas pueden contener combinaciones de `strings`, `integers` y `floats`. Las listas también pueden ser almacenadas dentro de otras listas."
   ]
  },
  {
   "cell_type": "code",
   "execution_count": null,
   "metadata": {},
   "outputs": [],
   "source": [
    "list1 = [2, 4, 6, 8]\n",
    "list1"
   ]
  },
  {
   "cell_type": "code",
   "execution_count": null,
   "metadata": {},
   "outputs": [],
   "source": [
    "list2 = [\"Hello\", 2, 0.6]\n",
    "list2"
   ]
  },
  {
   "cell_type": "code",
   "execution_count": null,
   "metadata": {},
   "outputs": [],
   "source": [
    "list3 = [5, \"World\", list2]\n",
    "list3"
   ]
  },
  {
   "attachments": {},
   "cell_type": "markdown",
   "metadata": {},
   "source": [
    "Si quieres conocer cuántos elementos hay dentro de una lista, puedes usar la función `len()`:"
   ]
  },
  {
   "cell_type": "code",
   "execution_count": null,
   "metadata": {},
   "outputs": [],
   "source": [
    "len(list3)"
   ]
  },
  {
   "attachments": {},
   "cell_type": "markdown",
   "metadata": {},
   "source": [
    "Puedes ver que `list3` tiene una longitud de 3. Por lo tanto, contiene tres elementos en total. \n",
    "Aquí, los elementos individuales en `list2` no se cuentan individualmente, la lista entera es considerada un único elemento.  "
   ]
  },
  {
   "cell_type": "markdown",
   "metadata": {},
   "source": [
    "## 2.4 Tuplas y Conjuntos\n",
    "\n",
    "Los datos también puede ser guardados en tuplas y conjuntos. Una `tuple` se utiliza principalmente para colecciones pequeñas de datos que no cambian (si se desea adicionar algo a la colección de datos, se debe usar una lista en su lugar). Sin embargo las tuplas pueden ser más eficientes. Además, si la salida es más de un elemento desde una función, los elementos pueden ser guardados en una tupla. Una tupla puede ser creada con `tuple()` o usando simplemente `()`. Nota que si deseas tener mas de un elemento en una tupla, debes colocar coma después del elemento, por ejemplo `(1,)`.\n",
    "\n",
    "Un `set` de elementos solo contiene elementos únicos, por lo que un conjunto se puede utilizar para filtrar los elementos únicos de una colección. Las operaciones matemáticas como únion o intersección, también son posibles con los conjuntos. Los conjuntos son creados con `set()` o `{}` (no deben ser confundidos con los diccionarios). A diferencia de las listas o las tuplas, los elementos de los conjuntos no pueden ser accedidos mediante un indice."
   ]
  },
  {
   "cell_type": "code",
   "execution_count": null,
   "metadata": {},
   "outputs": [],
   "source": [
    "# Crea una tupla desde una lista\n",
    "tup1 = tuple(list1 + [2, 3, 4])\n",
    "print(tup1, type(tup1))\n",
    "# elimina los duplicados \n",
    "set1 = set(tup1) # or set1 = {1, 2, 3, 2}\n",
    "print(set1, type(set1))\n",
    "# el conjunto puede ser tranformado en una lista y devuelto a un conjunto\n",
    "list4 = list(set1)\n",
    "print(list4, type(list4))"
   ]
  },
  {
   "attachments": {},
   "cell_type": "markdown",
   "metadata": {},
   "source": [
    "## 3. Indexación\n",
    "\n",
    "En Python un índice describe la posición de un valor con respecto a una variable, por ejemplo, una lista.\n",
    "\n",
    "Si deseas conocer cuál es el valor en la segunda posición de una lista, puedes usar el índice para obtener exactamente ese valor.\n",
    "Para usar un índice, se necesita `[]` de nuevo, pero esta vez no en la definición de una variable, sino en combinación con la variable.\n",
    "Entonces `x[0]` devolvería el primer elemento de la variable `x`.\n",
    "\n",
    "**Importante:**\n",
    "\n",
    "Python usa indexación de `Base 0`, que significa que la indexación en Python inicia con el `0`. Al primer valor de la lista se le asigna el índice `0`. \n",
    "\n",
    "---\n",
    "\n",
    "Casi todos los leguajes de programación son de `Base 0`. Esto se ha convertido en una convención y relaciona como los `arrays` ('arreglos') son almacenados en la memoria. \n",
    "\n",
    "---"
   ]
  },
  {
   "cell_type": "code",
   "execution_count": null,
   "metadata": {},
   "outputs": [],
   "source": [
    "Animales = [\"Leon\", \"Elefante\", \"Zorro\", \"Ballena\", \"Caballo\", \"Cabra\", \"Hormiga\"]\n",
    "Animales[3]"
   ]
  },
  {
   "attachments": {},
   "cell_type": "markdown",
   "metadata": {},
   "source": [
    "También puedes seleccionar múltiples valores de una lista, lo que se denomina usualmente como `slicing` ('partición'). \n",
    "Para esto necesitas el signo dos puntos `:`.\n",
    "\n",
    "* `x[:5]` Los primeros cinco valores de la lista `x` son seleccionados. Nota que el índice `5` hace referencia al sexto elemento de la lista. Este sexto elemento es el limite superior, que no se incluye en los valores retornados. En Python, el índice que establece el limite superior nunca se incluye.\n",
    "\n",
    "* `x[2:5]` Aquí se seleccionan los elementos en tercera, cuarta y quinta posición. \n",
    "\n",
    "* `x[5:]` Aquí se seleccionan todos los elementos desde la sexta posición hasta el final de la lista. \n",
    "\n",
    "* `x[-1]` Selecciona el último elemento en la lista.\n",
    "\n",
    "* `x[-2]` Selecciona el penútlimo elemento en la lista.  "
   ]
  },
  {
   "cell_type": "code",
   "execution_count": null,
   "metadata": {},
   "outputs": [],
   "source": [
    "x = [1, 2, 3, 4, 5, 6, 7, 8, 9]"
   ]
  },
  {
   "cell_type": "code",
   "execution_count": null,
   "metadata": {},
   "outputs": [],
   "source": [
    "x[0:5]  # indice 5 hace referencia al sexto elemento pero no es incluido en la salida."
   ]
  },
  {
   "cell_type": "code",
   "execution_count": null,
   "metadata": {},
   "outputs": [],
   "source": [
    "x[2:5]"
   ]
  },
  {
   "cell_type": "code",
   "execution_count": null,
   "metadata": {},
   "outputs": [],
   "source": [
    "x[5:]"
   ]
  },
  {
   "cell_type": "code",
   "execution_count": null,
   "metadata": {},
   "outputs": [],
   "source": [
    "x[-1]"
   ]
  },
  {
   "attachments": {},
   "cell_type": "markdown",
   "metadata": {},
   "source": [
    "Tu también puedes adicionar valores a una lista existente: \n",
    "\n",
    "`x.append(10)`\n",
    "\n",
    "De esta manera el número `10` es adicionado al final de la lista `x`."
   ]
  },
  {
   "cell_type": "code",
   "execution_count": null,
   "metadata": {},
   "outputs": [],
   "source": [
    "x.append(10)\n",
    "x"
   ]
  },
  {
   "attachments": {},
   "cell_type": "markdown",
   "metadata": {},
   "source": [
    "## 4. For-Loop (Ciclo for)\n",
    "\n",
    "Muchas de las cosas que haz hecho hasta ahora se pueden realizar facilmente en una calculadora. Sin embargo, el **for-loop** (ciclo for) es la primera caracteristica de Python que abre un abanico de nuevas y efecientes posibilidades para ir mas allá de un simple calculadora.\n",
    "\n",
    "Un **ciclo for** es usado para ejecutar un comando repetidamente. De esta forma, no necesitas escribir el mismo comando una y otra vez."
   ]
  },
  {
   "cell_type": "code",
   "execution_count": null,
   "metadata": {},
   "outputs": [],
   "source": [
    "for i in range(5):\n",
    "    print(\"Hello World\")"
   ]
  },
  {
   "attachments": {},
   "cell_type": "markdown",
   "metadata": {},
   "source": [
    "En lugar de escribir el commando `print` cinco veces, el ciclo for puede realizar esta acción automáticamente.<br>\n",
    "Esto se vuelve realmente útil cuando quieres el mismo comando para todos los elementos de una lista.\n",
    "\n",
    "La función `range(5)` le indica al ciclo que la variable `i` debe tomar todos los valores desde 0 al 5, uno despues de otro (el valor 5, es el límite superior, se excluye, al igual que con la indexación)."
   ]
  },
  {
   "cell_type": "code",
   "execution_count": null,
   "metadata": {},
   "outputs": [],
   "source": [
    "for i in range(5):\n",
    "    print(i)"
   ]
  },
  {
   "attachments": {},
   "cell_type": "markdown",
   "metadata": {},
   "source": [
    "Supón que tienes los valores `x=[1,2,3,4,5,6,7,8,9]` y deseas calcular el cuadrado (en Python `**2`) de cada uno de los valores. Entonces, puedes usar el ciclo for para iterar sobre la lista `x`. Hay multiples maneras de escribir un ciclo for, pero al final, todas realizan la misma tarea."
   ]
  },
  {
   "cell_type": "code",
   "execution_count": null,
   "metadata": {
    "scrolled": true
   },
   "outputs": [],
   "source": [
    "x = [1, 2, 3, 4, 5, 6, 7, 8, 9]\n",
    "\n",
    "for element in x:\n",
    "    print(element ** 2)\n",
    "    "
   ]
  },
  {
   "cell_type": "code",
   "execution_count": null,
   "metadata": {},
   "outputs": [],
   "source": [
    "print(\"\\n Alternative: \\n\")\n",
    "\n",
    "# Puedes también dejar que \"i\" tome los valores desde 0 a 8 y acceder a los elementos en x por su indice i.\n",
    "\n",
    "for i in range(len(x)): \n",
    "    # len(x) devuelve 9, i toma los valores desde 0 a 8, los mismo que si se hubiera escrito range(9)\n",
    "    print(x[i]**2)"
   ]
  },
  {
   "attachments": {},
   "cell_type": "markdown",
   "metadata": {},
   "source": [
    "El `for` introduce al ciclo. `element` es el nombre para una nueva variable que existe solo en el `ciclo for` (también puedes darle cualquier otro nombre). `in` le \"dice\" a Python que la siguiente variable es la variable sobre la que debe iterar: en este caso, `x`. Python reconoce que debe ejecutar el comando dentro del ciclo for para cada elemento en `x`. Siempre debe haber un `:` al final de la primera línea del ciclo for.\n",
    "\n",
    "Además, nota que el comando dentro del ciclo for está indentado. Esto es importante para mostrarle a Python qué debe suceder dentro del ciclo for. Algo que se supone que suceda después del ciclo for, pero no adentro de él, se escribe sin indentación. Una *indentación* son cuatro espacios o presionar la tecla Tab una vez. \n",
    "\n",
    "Usualmente, los ciclos for simples son escritos en una línea usando lo que se denomina como \"list comprehension\" ('listas de comprensión')."
   ]
  },
  {
   "cell_type": "code",
   "execution_count": null,
   "metadata": {},
   "outputs": [],
   "source": [
    "[element**2 for element in x]"
   ]
  },
  {
   "attachments": {},
   "cell_type": "markdown",
   "metadata": {},
   "source": [
    "Puedes observar que necesitamos menos líneas. Además, la salida es una lista en lugar de, como antes, los elementos individuales."
   ]
  },
  {
   "attachments": {},
   "cell_type": "markdown",
   "metadata": {},
   "source": [
    "## 5. Numpy\n",
    "\n",
    "Python por sí solo tiene un número limitado de funciones que pueden ser usadas. Muchas funciones útiles deben cargarse por separado de fuentes externas. Esto se realiza a través de la importación de las denominadas *libraries* (librerias).\n",
    "Una de las mas importantes y mas úsadas *libraries* es `numpy`. Como su nombre lo indica, `numpy` se centra cálculos númericos, especialmente funciones importantes para el álgebra líneal y la estadística.\n",
    "Algo muy importante para tí es la clase `arrays` ('arreglo'), un nuevo *tipo* de variable adicionado por `numpy`. \n",
    "\n",
    "Un `array` te permite almacenar múltiples valores en una variable. A diferencia de una lista, los valores aquí pueden disponerse en dos (o más) dimensiones, como en una tabla o en una matriz:\n",
    "\n",
    "<center><img src=\"https://upload.wikimedia.org/wikipedia/commons/b/bf/Matris.png\" style=\"width: 400px;\"></center>\n",
    "<h8><center>Fuente: Svjo, Wikimedia</center></h8>\n",
    "\n",
    "De hecho, Puedes usar `arrays` en 3D y 4D con `numpy`, pero para nuestros propósitos, dos dimensiones son suficientes.\n",
    "\n",
    "Teóricamente, podríamos trabajar con listas de Python, pero el código subyacente en el que fue escrito `numpy` está optimizado para estructuras tipo `array`. Por lo tanto, `numpy` ofrece ventajas significativas de velocidad con respecto a las listas de Python.\n",
    "\n",
    "**Importante:** Los arrays, contrario a las listas, solo pueden contener valores del mismo tipo. Así que solo `strings` o solo `floats` pero no ambos.\n",
    "\n",
    "\n",
    "Puedes cargar `numpy` con `import numpy`. La adición `as np` te permite escribir `np` en lugar de `numpy` mas adelante en el código:\n"
   ]
  },
  {
   "cell_type": "code",
   "execution_count": 1,
   "metadata": {},
   "outputs": [],
   "source": [
    "import numpy as np"
   ]
  },
  {
   "cell_type": "code",
   "execution_count": null,
   "metadata": {},
   "outputs": [],
   "source": [
    "# Ahora escribimos np.array, entonces Python sabe que queremos usar una función de numpy\n",
    "my_array = np.array([[1, 2, 3],\n",
    "                     [4, 5, 6],\n",
    "                     [7, 8, 9]])   \n",
    "print(my_array)"
   ]
  },
  {
   "attachments": {},
   "cell_type": "markdown",
   "metadata": {},
   "source": [
    "Si observas detenidamente, verás que `np.array([[1,2,3],[4,5,6],[7,8,9]])` es una lista que contiene tres listas `[[1,2,3],[4,5,6],[7,8,9]]`. Numpy \"adhiere\", por así decirlo, la segunda lista debajo de la primera (y así continuamente). Esto crea una matriz o `array`. Para que esto funcione, todas las listas debén tener la misma longitud.\n",
    "\n",
    "Si deseas conocer el tamaño de un `array`, puedes usar `x.shape`."
   ]
  },
  {
   "cell_type": "code",
   "execution_count": null,
   "metadata": {
    "scrolled": true
   },
   "outputs": [],
   "source": [
    "my_array.shape"
   ]
  },
  {
   "attachments": {},
   "cell_type": "markdown",
   "metadata": {},
   "source": [
    "Entonces el `array` tiene tres filas y tres columnas. \n",
    "También es posible indexar o dividir `arrays`: `array[row, column]`. En un `array` las filas y las columnas pueden ser seleccionadas. Las reglas son idénticas a la de las listas:\n",
    "- `array[1,3]` devuelve el elemento que esta en la segunda fila y en la cuarta columna\n",
    "- `array[:,0]` devuelve la primera columna completa\n",
    "- `array[5,:]` devuelve los elementos de la sexta fila\n",
    "- `array[2:5,0:3]` selecciona todos los elementos que estçan en la tercera y quinta fila y entre la primera a la tercera columna"
   ]
  },
  {
   "cell_type": "code",
   "execution_count": null,
   "metadata": {},
   "outputs": [],
   "source": [
    "my_array[0:2,0:2]"
   ]
  },
  {
   "attachments": {},
   "cell_type": "markdown",
   "metadata": {},
   "source": [
    "Tu tambien puedes usar `numpy` para leer los datasets (conjuntos de datos)."
   ]
  },
  {
   "cell_type": "code",
   "execution_count": null,
   "metadata": {},
   "outputs": [],
   "source": [
    "dataset = np.genfromtxt('https://uni-muenster.sciebo.de/s/8NNS6x6bVQfiYNu/download', delimiter=',')\n",
    "dataset"
   ]
  },
  {
   "attachments": {},
   "cell_type": "markdown",
   "metadata": {},
   "source": [
    "## 6. Funciones\n",
    "\n",
    "Las funciones son la esencia y el propósito de la programación. Similar a las matemáticas, las funciones tienen una entrada y una salida con un valor transformado, ejemplo: $f(x)= x^2$ $\\to$ $f(3) =9$.\n",
    "\n",
    "Ya has usado algunas funciones con `numpy`: por ejemplo, `np.array()` toma como entrada una lista y como salida un `array`.<br>\n",
    "`len()` toma como entrada una lista y devuelve como salida el número de elementos en esa lista.\n",
    "\n",
    "Tú también puedes escribir tus propias funciones. Para definir una función, se usa `def`: "
   ]
  },
  {
   "cell_type": "code",
   "execution_count": null,
   "metadata": {},
   "outputs": [],
   "source": [
    "def square(x):\n",
    "    return x**2\n",
    "\n",
    "square(4)"
   ]
  },
  {
   "attachments": {},
   "cell_type": "markdown",
   "metadata": {},
   "source": [
    "Después de `def` tú puedes darle un nombre a la función, entonces luego van dos paréntesis `()`, en los cuales puedes definir los nombres de las variables de entrada. Seguido de dos puntos. Después de los `:` la función actual es definida (que deberia hacer). Es importante que todo lo que pase enh la función este identado con 4 espacios (1 tab). Jupyter hace esto automaticamente por ti.\n",
    "\n",
    "Lo ultimo es la declaración de `return`, que puede estar seguido por la salida de la función.\n",
    "\n",
    "Las funciones pueden tener múltiples entradas y salidas:"
   ]
  },
  {
   "cell_type": "code",
   "execution_count": null,
   "metadata": {},
   "outputs": [],
   "source": [
    "def power(x,b):\n",
    "    x_power_b =x**b\n",
    "    b_power_x =b**x\n",
    "    return x_power_b, b_power_x\n",
    "\n",
    "power(x=4,b=5)"
   ]
  },
  {
   "attachments": {},
   "cell_type": "markdown",
   "metadata": {},
   "source": [
    "Tambien puedes asignar la salida de la función directamente a la variable."
   ]
  },
  {
   "cell_type": "code",
   "execution_count": null,
   "metadata": {},
   "outputs": [],
   "source": [
    "# Python reconoce cual valor corresponde a X y cual a b con base a su posición\n",
    "output1, output2 = power(4,5) \n",
    "print(output1, output2)"
   ]
  },
  {
   "cell_type": "code",
   "execution_count": null,
   "metadata": {},
   "outputs": [],
   "source": [
    "print(x_power_b)"
   ]
  },
  {
   "attachments": {},
   "cell_type": "markdown",
   "metadata": {},
   "source": [
    "En la útlima celda trataste de imprimir `x_power_b` en la consola (`print(x_power_b)`), Pero no funcionó, porque las variables definidas dentro de una función \"viven\" solo dentro de esta y no existen en el *ambito global*. Cualquier variable que quieras usar en una función debe ser almacenada en una nueva variable con la declaración de `return`. \n",
    "\n",
    "También puedes usar funciones adentro de funciones, lo que te permite rápidamente escribir funciones más complejas desde las simples:"
   ]
  },
  {
   "cell_type": "code",
   "execution_count": null,
   "metadata": {},
   "outputs": [],
   "source": [
    "def function_1(x):\n",
    "    return x*3\n",
    "\n",
    "def function_2(x):\n",
    "    y = function_1(x)\n",
    "    z = y +5 \n",
    "    return z\n",
    "\n",
    "function_2(0.5)"
   ]
  },
  {
   "attachments": {},
   "cell_type": "markdown",
   "metadata": {},
   "source": [
    "Lo última a mencionar es que existen variables de entrada opcionales. Estas permiten estructural mejor las funciones:"
   ]
  },
  {
   "cell_type": "code",
   "execution_count": null,
   "metadata": {},
   "outputs": [],
   "source": [
    "def root(x, b=2):\n",
    "    return x**(1/b)\n",
    "\n",
    "root(x=4)"
   ]
  },
  {
   "attachments": {},
   "cell_type": "markdown",
   "metadata": {},
   "source": [
    "Como puedes ver, tienes asignado el valor de `2` a `b` en la definición de la función. Esto significa que `2` es el *valor predeterminado* para `b`. Si usas la función sin definir `b`, `b` será automáticamente seleccionado como `2`. Pero si añades `b=4` al llamar la función, se usará `b=4` en esta. \n",
    "\n",
    "Usar `defaults`, para las variables opcionales, facilita y clarifica el uso de las funciones:"
   ]
  },
  {
   "cell_type": "code",
   "execution_count": null,
   "metadata": {},
   "outputs": [],
   "source": [
    "root(x=4,b=4)"
   ]
  },
  {
   "attachments": {},
   "cell_type": "markdown",
   "metadata": {},
   "source": [
    "### Local vs. Global\n",
    "\n",
    "It is important to know that, as already mentioned, there are global variables and local variables. Local variables exist only within the function, while global variables exist in the general memory of the script.\n",
    "\n",
    "Example:\n",
    "\n",
    "The function `local_global` takes as input `x` and printed `a`. We have previously set `a` globally as `1`.\n",
    "Therefore the output of the function is also `1`. This is because we didn't define `a` before, Python can't find a local variable `a` and therefore falls back to the global variable `a`."
   ]
  },
  {
   "cell_type": "code",
   "execution_count": null,
   "metadata": {},
   "outputs": [],
   "source": [
    "a = 1\n",
    "\n",
    "def local_global(x):\n",
    "    print(a)\n",
    "local_global(x=7)"
   ]
  },
  {
   "attachments": {},
   "cell_type": "markdown",
   "metadata": {},
   "source": [
    "We now rewrite the function so that within the function the variable `a` receives the value of `x`."
   ]
  },
  {
   "cell_type": "code",
   "execution_count": null,
   "metadata": {},
   "outputs": [],
   "source": [
    "def local_global(x):\n",
    "    a = x\n",
    "    print(a)\n",
    "    \n",
    "local_global(x=7)"
   ]
  },
  {
   "attachments": {},
   "cell_type": "markdown",
   "metadata": {},
   "source": [
    "The function now outputs the value `7` for `a`. So far, so good, but if you now look at `a`, you will notice that `a` is still `1`. Because this `a` is again the global variable `a`.\n"
   ]
  },
  {
   "cell_type": "code",
   "execution_count": null,
   "metadata": {},
   "outputs": [],
   "source": [
    "a"
   ]
  },
  {
   "attachments": {},
   "cell_type": "markdown",
   "metadata": {},
   "source": [
    "As you can see, the local change within the function had no effect on the global variable. That is, the local variable is *destroyed* after exiting the function, while the global variable continues to exist. This happens even though both variables have the same name.\n",
    "\n",
    "\n",
    "*In general, you should avoid having functions access global variables. This can cause a lot of confusion.*"
   ]
  },
  {
   "attachments": {},
   "cell_type": "markdown",
   "metadata": {},
   "source": [
    "# Exercises\n",
    "\n",
    "### 1. Indexing and Slicing\n",
    "\n",
    "* Output the string \"Panda\" from the `array` `Animals`.\n",
    "* Output the first two columns of the `array`.\n",
    "* Output the third row of the array\n",
    "* Output the four animals in the upper right corner of the `array`."
   ]
  },
  {
   "cell_type": "code",
   "execution_count": null,
   "metadata": {},
   "outputs": [],
   "source": [
    "Animals = np.array([\n",
    "['Elephant', 'Turtle', 'Parrot', 'Walrus', 'Eagle'], \n",
    "['Orang-utan', 'Panda', 'Bear', 'Carp', 'Wolf'],\n",
    "['Hyena', 'Chimpanzee', 'Hippo', 'Dove', 'Rhino'],\n",
    "['Lion', 'Sparrow', 'Sheep', 'Boar', 'Gorilla'],\n",
    "['Polar bear', 'Horse', 'Penguin', 'Orca', 'Frog']])\n",
    "\n",
    "# Output the elements/slices here with:\n",
    "# print(Animals[...])"
   ]
  },
  {
   "attachments": {},
   "cell_type": "markdown",
   "metadata": {},
   "source": [
    "<details>\n",
    "    <summary><b>Solution:</b></summary>\n",
    "\n",
    "```python\n",
    "print(Animals[1,1])\n",
    "print(Animals[:, 0:2])\n",
    "print(Animals[2]) # If there is no comma, rows always are always before columns\n",
    "print(Animals[:2,3:])  \n",
    "```   \n",
    "</details>"
   ]
  },
  {
   "attachments": {},
   "cell_type": "markdown",
   "metadata": {},
   "source": [
    "### 2. Celsius to Fahrenheit\n",
    "\n",
    "Write a function that converts Celsius to Fahrenheit. The formula for this is $°F= °C \\cdot 1.8 + 32$. <br> Convert 25 °C to Fahrenheit using this function."
   ]
  },
  {
   "cell_type": "code",
   "execution_count": null,
   "metadata": {},
   "outputs": [],
   "source": [
    "def c_to_f(_____):  # write your function here"
   ]
  },
  {
   "attachments": {},
   "cell_type": "markdown",
   "metadata": {},
   "source": [
    "<details>\n",
    "    <summary><b>Solution:</b></summary>\n",
    "\n",
    "```python\n",
    "def c_to_f(celsius):\n",
    "    return celsius*1.8 + 32\n",
    "    \n",
    "print(c_to_f(25))    \n",
    "```   \n",
    "</details>"
   ]
  },
  {
   "attachments": {},
   "cell_type": "markdown",
   "metadata": {},
   "source": [
    "### 3.  List Comprehension\n",
    "\n",
    "Can you write the following `for-loop` in one line?\n"
   ]
  },
  {
   "cell_type": "code",
   "execution_count": null,
   "metadata": {},
   "outputs": [],
   "source": [
    "x = [\"A\", \"B\", \"C\", \"D\"]\n",
    "\n",
    "for item in x:\n",
    "    print(item*3)"
   ]
  },
  {
   "cell_type": "code",
   "execution_count": null,
   "metadata": {},
   "outputs": [],
   "source": [
    "# write your solution here"
   ]
  },
  {
   "attachments": {},
   "cell_type": "markdown",
   "metadata": {},
   "source": [
    "<details>\n",
    "    <summary><b>Solution:</b></summary>\n",
    "\n",
    "```python\n",
    "[3*item for item in x]\n",
    "```   \n",
    "</details>"
   ]
  },
  {
   "attachments": {},
   "cell_type": "markdown",
   "metadata": {},
   "source": [
    "Can you write the following `for-loop` as a \"classic\" `for-loop`?"
   ]
  },
  {
   "cell_type": "code",
   "execution_count": null,
   "metadata": {},
   "outputs": [],
   "source": [
    "x = [\"A\", \"B\", \"C\", \"D\"]\n",
    "[item + \"_XY\" for item in x]"
   ]
  },
  {
   "cell_type": "code",
   "execution_count": null,
   "metadata": {},
   "outputs": [],
   "source": [
    "# write your solution here"
   ]
  },
  {
   "attachments": {},
   "cell_type": "markdown",
   "metadata": {},
   "source": [
    "<details>\n",
    "    <summary><b>Solution:</b></summary>\n",
    "\n",
    "```python\n",
    "    \n",
    "for item in x:\n",
    "    print(item+\"_XY\")\n",
    "```   \n",
    "</details>"
   ]
  },
  {
   "attachments": {},
   "cell_type": "markdown",
   "metadata": {},
   "source": [
    "### 4. Fibonacci Sequence\n",
    "<center><img src=\"https://ichef.bbci.co.uk/images/ic/1200x675/p01gmtz6.jpg\" style=\"width: 600px;\"></center>\n",
    "<h8><center>Source: BBC.com </center></h8>\n",
    "\n",
    "The Fibonacci sequence is a series of numbers where the next number is the sum of the last two numbers:\n",
    " \n",
    " https://de.wikipedia.org/wiki/Fibonacci-Folge\n",
    " \n",
    "Write a program that outputs the first 15 numbers of the Fibonacci sequence\n",
    " \n",
    "Given is already the list 'fib' which contains the numbers '0,1'. Add the next values to this list.\n",
    " \n",
    "<details>\n",
    "    <summary><b>Hint 1</b></summary>\n",
    "You can use <code>.append()</code>, to append numbers to lists.\n",
    "</details>\n",
    "\n",
    "<details>\n",
    "<summary><b>Hint 2</b></summary>\n",
    "    Using <code>[-1]</code> you can access the last element of a list.\n",
    "</details>"
   ]
  },
  {
   "cell_type": "code",
   "execution_count": null,
   "metadata": {},
   "outputs": [],
   "source": [
    "fib = [0,1] \n",
    "# write your solution here"
   ]
  },
  {
   "attachments": {},
   "cell_type": "markdown",
   "metadata": {},
   "source": [
    "<details>\n",
    "    <summary><b>Solution:</b></summary>\n",
    "\n",
    "```python\n",
    "for i in range(14):\n",
    "    fib.append(fib[-1]+fib[-2])\n",
    "    print(fib)\n",
    "```\n",
    "</details>"
   ]
  },
  {
   "attachments": {},
   "cell_type": "markdown",
   "metadata": {},
   "source": [
    "### 5. Sum of Matrix-Diagonals\n",
    " \n",
    " \n",
    "Calculate the sum of the diagonals of matrix A and matrix B with a for-loop.\n",
    "\n",
    "The diagonals of a matrix are the values that lie in the \"middle\" of a matrix. In the example the diagonal is marked a bit stronger. \n",
    "\n",
    "$\\begin{bmatrix}\\textbf{1} & 2 & 3 \\\\\n",
    "4&\\textbf{5}&6\\\\\n",
    "7&8&\\textbf{9}\\end{bmatrix}$\n",
    "\n",
    "In the example $1+5+9 =15$.\n",
    "\n",
    "<br>\n",
    "\n",
    "<details>\n",
    "    <summary><b>Hint 1 </b></summary>\n",
    "    <code>x =x+1</code> adds 1 to x.\n",
    "</details>\n",
    "\n",
    "\n",
    "<details>\n",
    "<summary><b>Hint 2</b></summary>\n",
    "    <code>x[0,0]</code> accesses the element in the first row and column.\n",
    "</details>\n"
   ]
  },
  {
   "cell_type": "code",
   "execution_count": null,
   "metadata": {},
   "outputs": [],
   "source": [
    "A = np.array([\n",
    "    [12,45,13,85],\n",
    "    [11,4,43,23],\n",
    "    [78,22,0.5,65],\n",
    "    [154,11,57,1]])\n",
    "\n",
    "print(A)\n",
    "\n",
    "\n",
    "\n",
    "B = np.array([\n",
    "    [0.96359314, 0.42621368, 0.10821601, 0.6852424 ],\n",
    "    [0.23945833, 0.30840861, 0.25658861, 0.63431993],\n",
    "    [0.16603427, 0.40061208, 0.2790935 , 0.94613278],\n",
    "    [0.89885982, 0.00133547, 0.75911288, 0.56449904]]) \n",
    "    # The correct answer is 2.1155942899999998\n",
    "\n",
    "print(\"\\n\", B)"
   ]
  },
  {
   "cell_type": "code",
   "execution_count": null,
   "metadata": {},
   "outputs": [],
   "source": [
    "summe_diag = 0\n",
    "# write your solution here"
   ]
  },
  {
   "attachments": {},
   "cell_type": "markdown",
   "metadata": {},
   "source": [
    "<details>\n",
    "    <summary><b>Solution:</b></summary>\n",
    "\n",
    "```python\n",
    "for i in range(4):\n",
    "    sum_diag = sum_diag + A[i,i]\n",
    "print(sum_diag)\n",
    "```\n",
    "</details>"
   ]
  },
  {
   "attachments": {},
   "cell_type": "markdown",
   "metadata": {},
   "source": [
    "# Practice Exercise\n",
    "\n",
    "This task can be done by anyone. However, there is no solution for this yet. This will be discussed in the lab.\n",
    "The chemists who need a certificate of achievement will send their solution with the whole notebook.\n",
    "\n",
    "Can you write a function, without `numpy`, that calculates the sum of the diagonals for square matrices (equal number of columns and rows) of any size? To find the number of rows of a matrix, you can use `A.shape[0]`.\n",
    "\n",
    "**The function must not contain any other Numpy function except** `.shape`.\n",
    "\n",
    "The function can be tested on matrix A and B.\n",
    "\n",
    "Please hand in the complete notebook!"
   ]
  },
  {
   "cell_type": "code",
   "execution_count": null,
   "metadata": {},
   "outputs": [],
   "source": [
    "A=np.array([[0.5193, 0.1647, 0.373 , 0.1358, 0.8894, 0.7439, 0.4519, 0.2094,\n",
    "        0.4921, 0.0128, 0.4289, 0.5378, 0.4515, 0.6876, 0.5937],\n",
    "       [0.6018, 0.8242, 0.3926, 0.6591, 0.5134, 0.6065, 0.9881, 0.3841,\n",
    "        0.819 , 0.6716, 0.4225, 0.7546, 0.9525, 0.9048, 0.7034],\n",
    "       [0.7289, 0.7999, 0.3033, 0.4591, 0.1918, 0.7663, 0.9638, 0.7665,\n",
    "        0.5774, 0.7184, 0.9293, 0.0913, 0.0071, 0.989 , 0.6825],\n",
    "       [0.4759, 0.3783, 0.4923, 0.7622, 0.8149, 0.9381, 0.6649, 0.8443,\n",
    "        0.5408, 0.1885, 0.8533, 0.5403, 0.2167, 0.7192, 0.0259],\n",
    "       [0.8154, 0.1398, 0.8851, 0.2447, 0.8609, 0.1983, 0.3468, 0.5203,\n",
    "        0.5189, 0.3498, 0.3812, 0.3807, 0.209 , 0.2887, 0.1896],\n",
    "       [0.6525, 0.4192, 0.0356, 0.3995, 0.3648, 0.7127, 0.275 , 0.2705,\n",
    "        0.4698, 0.6706, 0.5039, 0.1286, 0.0693, 0.9826, 0.6088],\n",
    "       [0.5758, 0.4875, 0.6286, 0.9947, 0.0188, 0.8688, 0.9532, 0.498 ,\n",
    "        0.3713, 0.2585, 0.2112, 0.0812, 0.2677, 0.4038, 0.3395],\n",
    "       [0.0261, 0.5817, 0.9681, 0.7922, 0.592 , 0.8935, 0.4938, 0.8571,\n",
    "        0.279 , 0.0495, 0.549 , 0.2601, 0.348 , 0.6418, 0.8063],\n",
    "       [0.1303, 0.7674, 0.4345, 0.7768, 0.9407, 0.5074, 0.4774, 0.6019,\n",
    "        0.1217, 0.3217, 0.9664, 0.2278, 0.5141, 0.7489, 0.8304],\n",
    "       [0.1496, 0.0037, 0.3978, 0.8104, 0.5294, 0.337 , 0.3625, 0.3798,\n",
    "        0.8974, 0.3587, 0.1965, 0.9226, 0.2652, 0.1309, 0.7748],\n",
    "       [0.9205, 0.6545, 0.6991, 0.6209, 0.1958, 0.2015, 0.8984, 0.2911,\n",
    "        0.7079, 0.8424, 0.9334, 0.2488, 0.3616, 0.8357, 0.657 ],\n",
    "       [0.788 , 0.046 , 0.3151, 0.6779, 0.4671, 0.5347, 0.3059, 0.1771,\n",
    "        0.3986, 0.3657, 0.7061, 0.2225, 0.254 , 0.3257, 0.4043],\n",
    "       [0.9722, 0.2203, 0.11  , 0.3706, 0.1451, 0.8802, 0.0651, 0.098 ,\n",
    "        0.8599, 0.0832, 0.8898, 0.4826, 0.5435, 0.1672, 0.8508],\n",
    "       [0.857 , 0.6562, 0.6943, 0.2193, 0.3398, 0.8404, 0.0348, 0.4491,\n",
    "        0.8173, 0.8593, 0.1258, 0.2229, 0.925 , 0.2908, 0.0155],\n",
    "       [0.9227, 0.9373, 0.5116, 0.0711, 0.5547, 0.4867, 0.3199, 0.5271,\n",
    "        0.3406, 0.6261, 0.1969, 0.0792, 0.9261, 0.3449, 0.1132]])\n",
    "\n",
    "B = np.array([[-0.081,  0.549, -0.351,  1.037,  0.48 , -0.187, -1.148,  0.576],\n",
    "              [-0.124, -0.059,  0.705,  0.577,  0.67 ,  1.307,  1.408, -1.136],\n",
    "              [-0.175, -0.263,  2.828, -0.89 , -1.159,  1.195, -1.265, -0.364],\n",
    "              [-0.416, -0.665,  1.646,  0.107,  0.221, -0.439,  1.114,  0.269],\n",
    "              [-0.244, -1.125,  1.05 ,  0.467,  0.297, -1.377, -0.113, -2.072],\n",
    "              [-0.761, -0.691, -0.811, -1.051, -2.077,  0.25 ,  0.432, -0.314],\n",
    "              [ 2.375, -1.981, -0.264,  1.477, -0.631, -0.566,  0.32 ,  0.305],\n",
    "              [ 0.328,  1.811,  0.585,  0.818,  0.771,  0.208, -0.914, -0.374]])"
   ]
  },
  {
   "cell_type": "code",
   "execution_count": null,
   "metadata": {},
   "outputs": [],
   "source": [
    "# write your solution here"
   ]
  },
  {
   "attachments": {},
   "cell_type": "markdown",
   "metadata": {},
   "source": [
    "Of course `numpy` also contains functions for such problems. One possibility is to use `np.sum(np.diag(A))` to calculate the sum. Here `np.diag` selects the elements of the diagonals and `np.sum` sums them up. `numpy` has many functions. If you ever don't know what a function does, you can use `help()` to open the so called documentation. The documentation contains information about each function. For example the required inputs and outputs."
   ]
  },
  {
   "cell_type": "code",
   "execution_count": null,
   "metadata": {},
   "outputs": [],
   "source": [
    "help(np.sum)"
   ]
  },
  {
   "attachments": {},
   "cell_type": "markdown",
   "metadata": {},
   "source": [
    "Examples are given and each input variable is described. `np.sum()` always needs an `array` for which it can calculate the sum. But all other variables don\\`t need to be defined, because they have a default value.\n",
    "\n",
    "Unfortunately not every library has as good documentation as `numpy`."
   ]
  }
 ],
 "metadata": {
  "interpreter": {
   "hash": "b2063f454e5583264956edca724ed174a35400d49c5baf96fcf9ea99fcd5830b"
  },
  "kernelspec": {
   "display_name": "Python 3 (ipykernel)",
   "language": "python",
   "name": "python3"
  },
  "language_info": {
   "codemirror_mode": {
    "name": "ipython",
    "version": 3
   },
   "file_extension": ".py",
   "mimetype": "text/x-python",
   "name": "python",
   "nbconvert_exporter": "python",
   "pygments_lexer": "ipython3",
   "version": "3.11.8"
  },
  "toc-autonumbering": false,
  "toc-showcode": true,
  "toc-showmarkdowntxt": true
 },
 "nbformat": 4,
 "nbformat_minor": 4
}
