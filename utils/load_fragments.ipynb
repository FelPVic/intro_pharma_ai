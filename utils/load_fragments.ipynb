{
 "cells": [
  {
   "cell_type": "code",
   "execution_count": null,
   "id": "71609df5",
   "metadata": {},
   "outputs": [],
   "source": [
    "import os \n",
    "import sys\n",
    "from os.path import isdir, exists\n",
    "\n",
    "if 'google.colab' in sys.modules:\n",
    "    if isdir(\"../data/high_fidelity/\")==False:\n",
    "        !mkdir \"../data/\"\n",
    "        !mkdir \"../data/high_fidelity\"\n",
    "    if exists(\"../data/high_fidelity/fragments.sdf\") ==False:\n",
    "        !wget https://uni-muenster.sciebo.de/s/LBoGS2yE5G6avL8/download -O ../data/high_fidelity/fragments.sdf\n",
    "else:\n",
    "    import wget\n",
    "    if isdir(\"../data/high_fidelity\")==False:\n",
    "        if isdir(\"../data\") == True:\n",
    "            os.mkdir(\"../data/high_fidelity\")\n",
    "        else:\n",
    "            os.mkdir(\"../data\")\n",
    "            os.mkdir(\"../data/high_fidelity\")\n",
    "    if exists(\"../data/high_fidelity/fragments.sdf\") ==False:\n",
    "        wget.download(\"https://uni-muenster.sciebo.de/s/LBoGS2yE5G6avL8/download\", out = \"../data/high_fidelity/fragments.sdf\")"
   ]
  }
 ],
 "metadata": {
  "kernelspec": {
   "display_name": "Python 3 (ipykernel)",
   "language": "python",
   "name": "python3"
  },
  "language_info": {
   "codemirror_mode": {
    "name": "ipython",
    "version": 3
   },
   "file_extension": ".py",
   "mimetype": "text/x-python",
   "name": "python",
   "nbconvert_exporter": "python",
   "pygments_lexer": "ipython3",
   "version": "3.7.11"
  }
 },
 "nbformat": 4,
 "nbformat_minor": 5
}
