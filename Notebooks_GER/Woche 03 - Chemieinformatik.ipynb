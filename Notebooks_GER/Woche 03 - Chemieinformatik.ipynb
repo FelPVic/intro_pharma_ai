{
 "cells": [
  {
   "cell_type": "markdown",
   "metadata": {},
   "source": [
    "# Einführung in die Chemieinformatik\n",
    "\n",
    "---\n",
    "### Lernziele\n",
    "\n",
    "- Sie können Smiles mit `rdkit` lesen.\n",
    "- Sie können Moleküle manipulieren und visualisieren.\n",
    "- Sie können Deskriptoren für Moleküle berechnen.\n",
    "- Sie können die Ähnlichkeit von Molekülen anhand von Fingerabdrücken berechnen.\n",
    "\n",
    "---\n",
    "\n",
    "Im heutigen Notebook geht es um den Einsatz von Python in der Chemieinformatik. \n",
    "Als Fallstudie werden Sie nach einer Alternative zu **Sorafenib** suchen. [Sorafenib](https://de.wikipedia.org/wiki/Sorafenib) ist ein Kinase-Inhibitor, der hauptsächlich bei fortgeschrittenem Nierenkrebs eingesetzt wird.\n",
    "\n",
    "Wie Sie in der Vorlesung gelernt haben, besteht die erste Hürde in der Chemieinformatik darin, ein geeignetes Format zum Speichern von Molekülstrukturen zu finden. Um Moleküle in Python einzulesen, ist der naheliegendste Weg die Verwendung von *SMILES*. Diese können in Python ohne zusätzliche Bibliotheken gelesen und manipuliert werden. \n",
    "\n",
    "Für viele beschriebene Strukturen können Sie die Strukturen in verschiedenen Formaten auf [PubChem](https://pubchem.ncbi.nlm.nih.gov/) erhalten. \n",
    "Suchen Sie die SMILES für Sorafenib auf PubChem und kopieren Sie sie in die Zelle unten.\n",
    "\n",
    "\n",
    "<br>\n",
    "\n",
    "<details>\n",
    "<summary><strong>Falls kein Internet vorhanden: HIER klicken</strong></summary>\n",
    "\n",
    "```python\n",
    "    sorafenib = \"CNC(=O)C1=NC=CC(=C1)OC2=CC=C(C=C2)NC(=O)NC3=CC(=C(C=C3)Cl)C(F)(F)F\"\n",
    "```\n",
    "</details>"
   ]
  },
  {
   "cell_type": "code",
   "execution_count": null,
   "metadata": {},
   "outputs": [],
   "source": [
    "sorafenib = \" \" # Den Smiles in \" \" schreiben da sonst dieser nicht richig erkannt wird\n",
    "print(sorafenib)\n",
    "type(sorafenib)"
   ]
  },
  {
   "cell_type": "markdown",
   "metadata": {},
   "source": [
    "Wie Sie sehen können, werden die SMILES als `str` (`string`) gespeichert. Wir können diesen `string` tatsächlich manipulieren und auch Funktionen anwenden.  Das Problem ist jedoch, dass Python zwar die SMILES als `string` versteht, aber die zugrundeliegende molekulare Struktur nicht daraus ableiten kann. Wir haben keine Möglichkeit, Informationen über diese Moleküle zu erhalten.  Mit `len(sorafenib)` kann zwar die Länge des `strings` bestimmt werden, aber es ist beispielsweise nicht möglich, zu ermitteln, aus wie vielen Atomen dieses Molekül besteht.\n",
    "\n",
    "Hierfür benötigen Sie externe libraries. Eine der meistgenutzten Chemie-Libraries ist RDKit. \n",
    "Die wichtigsten Funktionalitäten können mit `from rdkit.Chem import AllChem as Chem` geladen werden. Mit RDKit können Sie Moleküle nicht nur lesen und darstellen, sondern auch manipulieren und Eigenschaften berechnen. \n",
    "Um eine SMILES als Molekül zu interpretieren, verwenden Sie `Chem.MolFromSmiles(SMILES)`."
   ]
  },
  {
   "cell_type": "code",
   "execution_count": null,
   "metadata": {},
   "outputs": [],
   "source": [
    "# Installs RDKit\n",
    "!pip install rdkit==2022.3.4"
   ]
  },
  {
   "cell_type": "code",
   "execution_count": null,
   "metadata": {},
   "outputs": [],
   "source": [
    "from rdkit.Chem import AllChem as Chem\n",
    "from rdkit.Chem.Draw import IPythonConsole\n",
    "sorafenib = Chem.MolFromSmiles(sorafenib)\n",
    "sorafenib"
   ]
  },
  {
   "cell_type": "markdown",
   "metadata": {},
   "source": [
    "Mit der Hilfe von RDKit können SMILES eingelesen und als valides Molekül dargestellt werden.\n",
    "Der `type(sorafenib)` ist jetzt:"
   ]
  },
  {
   "cell_type": "code",
   "execution_count": null,
   "metadata": {},
   "outputs": [],
   "source": [
    "type(sorafenib)"
   ]
  },
  {
   "cell_type": "markdown",
   "metadata": {},
   "source": [
    "Die Funktion `Chem.MolFromSmiles` wandelt die SMILES-Zeichenfolge in einen neuen Variablentyp um, nämlich den RDKit-Mol. Solange ein Molekül als `rdkit.Chem.rdchem.Mol` in Python gespeichert ist, können Sie alle Funktionen von rdkit auf dieses anwenden. Sie können auch `Chem.MolToSmiles(mol)` verwenden, um das Molekül wieder als SMILES auszugeben:"
   ]
  },
  {
   "cell_type": "code",
   "execution_count": null,
   "metadata": {},
   "outputs": [],
   "source": [
    "Chem.MolToSmiles(sorafenib)"
   ]
  },
  {
   "cell_type": "markdown",
   "metadata": {},
   "source": [
    "Der SMILES `string` von Sorafenib sieht jetzt anders aus als der, den Sie eingelesen haben. Der Unterschied liegt in der Darstellung der aromatischen Ringe. In der ursprünglichen Zeichenkette wurden explizit Doppelbindungen `=` verwendet, aber stattdessen stehen dort jetzt kleine `c`. RDKit kanonisiert die SMILES automatisch nach einem bestimmten Schema. PubChem verwendet eine andere Strategie für die Kanonisierung. Sie können SMILES in verschiedenen Formen lesen, aber `RDKit` wird immer die gleiche Form ausgeben.\n",
    "\n",
    "Wenn eine SMILES eingelesen werden soll, der kein gültiges Molekül representiert, wird RDKit einen Fehler ausgeben."
   ]
  },
  {
   "cell_type": "code",
   "execution_count": null,
   "metadata": {},
   "outputs": [],
   "source": [
    "Chem.MolFromSmiles('CNC(=[O-])c1cc(Oc2ccc(NC(=O)Nc3ccc(Cl)c(C(F)(F)F)c3)cc2)ccn1') # (=[O-]) anstelle von (=O)"
   ]
  },
  {
   "cell_type": "markdown",
   "metadata": {},
   "source": [
    "### RDKit\n",
    "Da Sie nun Sorafenib im richtigen Format haben, können Sie sich auch Informationen zu diesem Molekül ausgeben lassen:"
   ]
  },
  {
   "cell_type": "code",
   "execution_count": null,
   "metadata": {},
   "outputs": [],
   "source": [
    "sorafenib.GetNumAtoms() # Aus wie vielen Atomen besteht Sorafenib"
   ]
  },
  {
   "cell_type": "markdown",
   "metadata": {},
   "source": [
    "Es gibt verschiedene Funktionen, mit denen man Informationen über Moleküle erhalten kann. `rdkit` weist jedem Atom und jeder Bindung einen Index zu. Mit diesem Index können Sie einzelne Atome oder Bindungen auswählen. Sie können sehen, welches Atom welchen Index hat, indem Sie die `Draw`-Optionen wie folgt ändern:"
   ]
  },
  {
   "cell_type": "code",
   "execution_count": null,
   "metadata": {},
   "outputs": [],
   "source": [
    "from rdkit.Chem import Draw # Draw sublibrary ist für die visuelle Darstellung von Molekülen zuständig\n",
    "from rdkit.Chem.Draw import IPythonConsole\n",
    "IPythonConsole.drawOptions.addAtomIndices = True \n",
    "IPythonConsole.drawOptions.addBondIndices = False\n",
    "IPythonConsole.molSize = (500, 500) "
   ]
  },
  {
   "cell_type": "code",
   "execution_count": null,
   "metadata": {},
   "outputs": [],
   "source": [
    "sorafenib"
   ]
  },
  {
   "cell_type": "markdown",
   "metadata": {},
   "source": [
    "Einzelne Atome können über ihre Indizes mit `.GetAtomWithIdx()` ausgewählt werden. Weitere Funktionen erlauben es, mehr Informationen über die jeweiligen Atome zu erhalten:"
   ]
  },
  {
   "cell_type": "code",
   "execution_count": null,
   "metadata": {},
   "outputs": [],
   "source": [
    "print(\"Symbol vom Atom mit Index 3\")\n",
    "print(sorafenib.GetAtomWithIdx(3).GetSymbol())\n",
    "\n",
    "print(\"\\nMasse vom Atom mit dem Index 3\")\n",
    "print(sorafenib.GetAtomWithIdx(3).GetMass())\n",
    "\n",
    "print(\"\\nHybridisierung vom Atom mit dem Index 3\")\n",
    "print(sorafenib.GetAtomWithIdx(3).GetHybridization())\n"
   ]
  },
  {
   "cell_type": "markdown",
   "metadata": {},
   "source": [
    "Mit der Funktion `.SetAtomicNum()` können Sie auch einzelne Atome verändern und z.B. aus dem Keton ein Imin machen."
   ]
  },
  {
   "cell_type": "code",
   "execution_count": null,
   "metadata": {},
   "outputs": [],
   "source": [
    "sorafenib.GetAtomWithIdx(3).SetAtomicNum(7)\n",
    "display(sorafenib)\n",
    "print(Chem.MolToSmiles(sorafenib))\n",
    "sorafenib.GetAtomWithIdx(3).SetAtomicNum(8)# Veränderung wird wieder Rückgängig gemacht  "
   ]
  },
  {
   "cell_type": "markdown",
   "metadata": {},
   "source": [
    "Können Sie eines der Fluoratome durch ein Kohlenstoffatom ersetzen?"
   ]
  },
  {
   "cell_type": "code",
   "execution_count": null,
   "metadata": {},
   "outputs": [],
   "source": [
    "sorafenib._____.______ # schreiben Sie hier Ihre Lösung\n",
    "\n",
    "display(sorafenib)\n",
    "print(Chem.MolToSmiles(sorafenib))\n",
    "sorafenib = Chem.MolFromSmiles(\"CNC(=O)C1=NC=CC(=C1)OC2=CC=C(C=C2)NC(=O)NC3=CC(=C(C=C3)Cl)C(F)(F)F\")"
   ]
  },
  {
   "cell_type": "markdown",
   "metadata": {},
   "source": [
    "\n",
    "<details>\n",
    "<summary><strong>Lösung:</strong></summary>\n",
    "\n",
    "```python\n",
    "    sorafenib.GetAtomWithIdx(31).SetAtomicNum(6)\n",
    "```\n",
    "</details>"
   ]
  },
  {
   "cell_type": "markdown",
   "metadata": {},
   "source": [
    "Ähnliche Funktionen können auch für Bindungen verwendet werden. Auch jeder Bindung wird ein Index zugeordnet."
   ]
  },
  {
   "cell_type": "code",
   "execution_count": null,
   "metadata": {},
   "outputs": [],
   "source": [
    "IPythonConsole.drawOptions.addAtomIndices = False # Keine Atom Indizes zeigen\n",
    "IPythonConsole.drawOptions.addBondIndices = True # Bindungs Indizes zeigen\n",
    "\n",
    "sorafenib"
   ]
  },
  {
   "cell_type": "code",
   "execution_count": null,
   "metadata": {},
   "outputs": [],
   "source": [
    "print(\"Welche Art von Bindung ist Bindung 4\")\n",
    "print(sorafenib.GetBondWithIdx(4).GetBondType())\n",
    "\n",
    "print(\"\\nIst Bindung 4 in einem Ring von Größe 7\")\n",
    "print(sorafenib.GetBondWithIdx(4).IsInRingSize(7))\n",
    "\n",
    "print(\"\\nIst Bindung 4 in einem Ring von Größe 6\")\n",
    "print(sorafenib.GetBondWithIdx(4).IsInRingSize(6))\n",
    "\n",
    "IPythonConsole.drawOptions.addBondIndices = False"
   ]
  },
  {
   "cell_type": "markdown",
   "metadata": {},
   "source": [
    "### Deskriptoren\n",
    "\n",
    "Hilfreicher als Informationen über einzelne Atome sind Deskriptoren, die für ein ganzes Molekül berechnet werden. Mit verschiedenen Untermodulen in `rdkit` können Sie verschiedene Eigenschaften von Molekülen berechnen: "
   ]
  },
  {
   "cell_type": "code",
   "execution_count": null,
   "metadata": {},
   "outputs": [],
   "source": [
    "from rdkit.Chem.Descriptors import MolWt\n",
    "from rdkit.Chem.Crippen import MolLogP\n",
    "\n",
    "print(\"LogP\",MolLogP(sorafenib))\n",
    "print(\"Molecular Weight\",MolWt(sorafenib))"
   ]
  },
  {
   "cell_type": "markdown",
   "metadata": {},
   "source": [
    "## Sorafenib Alternativen\n",
    "\n",
    "Ziel ist es, alternative Moleküle für Sorafenib zu finden. Eine Vorauswahl ist bereits getroffen worden. Die SMILES sind in der Liste `smiles` zu finden."
   ]
  },
  {
   "cell_type": "code",
   "execution_count": null,
   "metadata": {},
   "outputs": [],
   "source": [
    "smiles = [\n",
    "    \"CNC(=O)c1cc(Oc2ccc(NC(=S)Nc3ccc(Cl)c(C(F)(F)F)c3)cc2)ccn1\",\n",
    "    \"C[C@@H](NC(=O)c1cc(Oc2ccc(NC(=O)Nc3ccc(Cl)c(C(F)(F)F)c3)cc2)ccn1)C(=O)NO\",\n",
    "    \"CNC(=O)c1cc(Oc2ccc(NC(=S)Nc3cc(C(F)(F)F)cc(C(F)(F)F)c3)cc2)ccn1\",\n",
    "    \"N#Cc1cc(Oc2ccc(NC(=O)Nc3ccc(Cl)c(C(F)(F)F)c3)cc2)ccn1\",\n",
    "    \"CN(C)c1ccc(NC(=O)c2cc(Oc3ccc(NC(=O)Nc4ccc(Cl)c(C(F)(F)F)c4)cc3)ccn2)cc1\", \n",
    "    \"CNC(=O)c1cc(Oc2ccc(NC(=O)Nc3ccc(Br)c(C(F)(F)F)c3)cc2)ccn1\",\n",
    "    \"CNC(=O)c1cc(Oc2ccc(NC(=O)Nc3ccc(OC(F)(F)F)cc3)cc2)ccn1\",\n",
    "    \"CCNC(=O)c1cc(Oc2ccc(NC(=O)Nc3ccc(Cl)c(C(F)(F)F)c3)cc2)ccn1\",\n",
    "    \"CNC(=O)c1cc(Oc2ccc(NC(=O)Nc3cccc(C(F)(F)F)c3)cc2)ccn1\"\n",
    "]"
   ]
  },
  {
   "cell_type": "markdown",
   "metadata": {},
   "source": [
    "Um zu vermeiden, dass jedes SMILES einzeln in ein `mol`-Objekt umgewandelt werden muss, schreiben Sie einen `for loop`.\n",
    "\n",
    "Sie können mehrere Moleküle nebeneinander mit der Funktion `Draw.MolsToGridImage(mols)` anzeigen."
   ]
  },
  {
   "cell_type": "code",
   "execution_count": null,
   "metadata": {},
   "outputs": [],
   "source": [
    "mols = [ _____ for x in ______] # passen Sie diesen for-loop an\n",
    "Draw.MolsToGridImage(mols,subImgSize=(300, 300)) # subImgSize ermöglicht es uns, die Moleküle größer zu`drucken`"
   ]
  },
  {
   "cell_type": "markdown",
   "metadata": {},
   "source": [
    "<details>\n",
    "<summary><strong>Lösung:</strong></summary>\n",
    "\n",
    "```python\n",
    "mols = [Chem.MolFromSmiles(x) for x in smiles]\n",
    "Draw.MolsToGridImage(mols,subImgSize=(300, 300))\n",
    "```\n",
    "</details>"
   ]
  },
  {
   "cell_type": "markdown",
   "metadata": {},
   "source": [
    "Um unnötige Kosten zu vermeiden, sollten Sie nur die vielversprechendsten Moleküle auswählen. Hierfür können Sie das bisher Gelernt anwenden. \n",
    "Eine einfache, aber wichtige Faustregel für die Entwicklung von Arzneimitteln ist die [\"Lipinski's Rule of Five\"](https://flexikon.doccheck.com/de/Lipinski%27s_rule_of_five). Sie besagt, dass Moleküle die vier bestimmte  Eigenschaften haben, sich besonders gut als Wirkstoff eignen:\n",
    "\n",
    "#### Lipinski's Rule of Five\n",
    "\n",
    ">- Nicht mehr als 5 Wasserstoffbrückenbindungs-Donatoren (hauptsächlich Stickstoff-Wasserstoff- und Sauerstoff-Wasserstoff-Bindungen).\n",
    ">- Nicht mehr als 10 Wasserstoffbrückenbindungs-Akzeptoren (hauptsächlich Sauerstoff- und Stickstoffatome).\n",
    ">- Ein Molekulargewicht von weniger als 500 g/mol.\n",
    ">- Ein [logP](https://de.wikipedia.org/wiki/Octanol-Wasser-Verteilungskoeffizient) Wert von weniger als 5."
   ]
  },
  {
   "cell_type": "markdown",
   "metadata": {},
   "source": [
    "Sie haben bereits den LogP Wert und das Molekulargewicht mit `rdkit`-Funktionen berechnet.\n",
    "Das Submodul `Lipinski` in RDKit bietet noch mehr Funktionen u.a. zur Berechnung der Anzahl der Wasserstoffbrückendonatoren und -akzeptoren. \n",
    "\n",
    "Berechnen Sie zunächst die Anzahl der Wasserstoffdonatoren (`NumHDonors`)"
   ]
  },
  {
   "cell_type": "code",
   "execution_count": null,
   "metadata": {},
   "outputs": [],
   "source": [
    "from rdkit.Chem.Lipinski import NumHAcceptors, NumHDonors\n",
    "\n",
    "NumDonors = [______(x) for x in ______] # passen Sie diesen for-loop an"
   ]
  },
  {
   "cell_type": "markdown",
   "metadata": {},
   "source": [
    "<details>\n",
    "<summary><strong>Lösung:</strong></summary>\n",
    "\n",
    "```python\n",
    "NumDonors = [NumHDonors(x) for x in mols]\n",
    "```\n",
    "</details>"
   ]
  },
  {
   "cell_type": "markdown",
   "metadata": {},
   "source": [
    "Um die Anzahl der Donatoren zusammen mit den Molekülen anzuzeigen, können Sie die Funktion `MolsToGridImage()` verwenden. Hier muss man einfach die `NumDonors` an die Inputvariable `legends` übergeben. Das Problem ist, dass die Funktion immer `Strings` erwartet. Also keine `integer`. Deshalb benutzen wir eine weitere `for-loop`, um den `int` in `NumDonors` in einen `str` umzuwandeln."
   ]
  },
  {
   "cell_type": "code",
   "execution_count": null,
   "metadata": {},
   "outputs": [],
   "source": [
    "NumDonors = [str(x) for x in NumDonors] # Sie konvertieren die Anzahl der Donoren zum str damit wir sie als Legende benutzen können\n",
    "Draw.MolsToGridImage(mols, legends = NumDonors,subImgSize = (300,300))"
   ]
  },
  {
   "cell_type": "markdown",
   "metadata": {},
   "source": [
    "In der Bildunterschrift sehen Sie die Anzahl der Wasserstoffbrückenbindungs-Donatoren. Alle Moleküle haben weniger Donatoren als die von Lipinski angegebene Obergrenze. Wir können das Gleiche für die Akzeptoren wiederholen.\n",
    "Diesmal schreiben Sie jedoch den `for-loop` so, dass die `integer` sofort in `strings` umgewandelt werden. Auf diese Weise spart man sich einen `for-loop`."
   ]
  },
  {
   "cell_type": "code",
   "execution_count": null,
   "metadata": {},
   "outputs": [],
   "source": [
    "NumAcceptors = [str(________) for x in ________] # passen Sie diesen for-loop an\n",
    "Draw.MolsToGridImage(mols, legends = NumAcceptors, subImgSize= (300,300))"
   ]
  },
  {
   "cell_type": "markdown",
   "metadata": {},
   "source": [
    "<details>\n",
    "<summary><strong>Lösung:</strong></summary>\n",
    "\n",
    "```python\n",
    "NumAcceptors = [str(NumHAcceptors(x)) for x in mols]\n",
    "Draw.MolsToGridImage(mols, legends = NumAcceptors, subImgSize= (300,300))\n",
    "```\n",
    "</details>"
   ]
  },
  {
   "cell_type": "markdown",
   "metadata": {},
   "source": [
    "Auch hier verstößt keines der Moleküle gegen Lipinskis Regel.\n",
    "Berechnen Sie nun das Molekulargewicht (`MolWt()`) für die Alternativen zu Sorafenib."
   ]
  },
  {
   "cell_type": "code",
   "execution_count": null,
   "metadata": {
    "scrolled": false
   },
   "outputs": [],
   "source": [
    "molWeight = [str(_________) for __ in _______] # passen Sie diesen for-loop an\n",
    "Draw.MolsToGridImage(mols, legends = molWeight, subImgSize=(300, 300))"
   ]
  },
  {
   "cell_type": "markdown",
   "metadata": {},
   "source": [
    "<details>\n",
    "<summary><strong>Lösung:</strong></summary>\n",
    "\n",
    "```python\n",
    "molWeight = [str(MolWt(x)) for x in mols]\n",
    "Draw.MolsToGridImage(mols, legends = molWeight, subImgSize=(300, 300))\n",
    "```\n",
    "</details>"
   ]
  },
  {
   "cell_type": "markdown",
   "metadata": {},
   "source": [
    "Einige Moleküle sind tatsächlich schwerer als \"Lipinskis Rule of Five\" erlaubt.\n",
    "\n",
    "Als Letztes berechnen Sie noch den LogP (`MolLogP()`)."
   ]
  },
  {
   "cell_type": "code",
   "execution_count": null,
   "metadata": {},
   "outputs": [],
   "source": [
    "logP = [_______ for ____ in _____] # passen Sie diesen for-loop an. Achten Sie auch auf die str() Funktion\n",
    "Draw.MolsToGridImage(mols, legends = logP,subImgSize=(300, 300))"
   ]
  },
  {
   "cell_type": "markdown",
   "metadata": {},
   "source": [
    "<details>\n",
    "<summary><strong>Lösung:</strong></summary>\n",
    "\n",
    "```python\n",
    "logP = [str(MolLogP(x)) for x in mols]\n",
    "Draw.MolsToGridImage(mols, legends = logP,subImgSize=(300, 300))\n",
    "```\n",
    "</details>"
   ]
  },
  {
   "cell_type": "markdown",
   "metadata": {},
   "source": [
    "Tatsächlich überschreiten die meisten Moleküle Lipinskis LogP-Wert. Nur drei Moleküle haben einen Wert von weniger als fünf. Diese letzten beiden Moleküle sind die einzigen, die alle vier Lipinski-Regeln erfüllen. Daher könnten sie besonders gut als Arzneimittel eignen. Aber man sollte nicht alle anderen Moleküle nur wegen eines zu hohen LogP-Wertes verwerfen. \n",
    "\n",
    "Sorafenib selbst hat auch einen LogP-Wert von mehr als 5. Daher entfernen wir nur Moleküle, die sowohl einen zu hohen LogP-Wert als auch ein zu hohes Gewicht haben. Sie können `booleans` verwenden, um die richtigen Moleküle auszuwählen, z. B. `LogP < 5`. Zuvor haben wir jedoch die Werte als `str` gespeichert, um sie unter den Molekülen als Legende auszugeben. Daher berechnen wir die Werte erneut, ohne sie in eine `str` umzuwandeln. Außerdem müssen Sie auch die Listen in ein `array` umwandeln, sonst können Sie die Werte nicht vergleichen."
   ]
  },
  {
   "cell_type": "code",
   "execution_count": null,
   "metadata": {},
   "outputs": [],
   "source": [
    "import numpy as np\n",
    "\n",
    "logP = [MolLogP(x) for x in mols]\n",
    "logP = np.array(logP) # die Liste muss erst noch in einen Array konvertiert werden\n",
    "logP < 5.0"
   ]
  },
  {
   "cell_type": "markdown",
   "metadata": {},
   "source": [
    "Machen Sie nun dasselbe für das Gewicht (`MolWt()`)."
   ]
  },
  {
   "cell_type": "code",
   "execution_count": null,
   "metadata": {},
   "outputs": [],
   "source": [
    "molWeight = [____() ___ ____ ___ ___] # passen Sie diesen for-loop an\n",
    "molWeight = ______________ # konvertieren Sie die Liste in ein Array\n",
    "molWeight < 500"
   ]
  },
  {
   "cell_type": "markdown",
   "metadata": {},
   "source": [
    "<details>\n",
    "<summary><strong>Lösung:</strong></summary>\n",
    "\n",
    "```python\n",
    "molWeight = [MolWt(x) for x in mols]\n",
    "molWeight = np.array(molWeight)\n",
    "molWeight < 500\n",
    "```\n",
    "</details>"
   ]
  },
  {
   "cell_type": "markdown",
   "metadata": {},
   "source": [
    "Um die Moleküle auszuwählen, die entweder ein Gewicht unter 500 oder einen logP unter fünf haben, können Sie das Symbol `|` verwenden. Das `|` steht für \"oder\". Die Anweisung `(logP < 5) | (molWeight<500)` wird `True` für Elemente ausgeben, die mindestens eine der beiden Bedingungen erfüllen. `False` wird ausgegeben, wenn ein Element keine der beiden Bedingungen erfüllt. Es bedeutet also, dass entweder ein logP kleiner als fünf oder ein Gewicht kleiner als 500 g/mol ist."
   ]
  },
  {
   "cell_type": "code",
   "execution_count": null,
   "metadata": {},
   "outputs": [],
   "source": [
    "(logP < 5) | (molWeight<500)"
   ]
  },
  {
   "cell_type": "markdown",
   "metadata": {},
   "source": [
    "Mit diesem `bool` array können wir jetzt die Moleküle auswählen die noch übrig bleiben."
   ]
  },
  {
   "cell_type": "code",
   "execution_count": null,
   "metadata": {},
   "outputs": [],
   "source": [
    "mols=np.array(mols)\n",
    "mols_subset=mols[(logP < 5) | (molWeight<500)] # wir konvertieren die `mol` Liste auch zu einem array\n",
    "Draw.MolsToGridImage(mols_subset, subImgSize=(300, 300))"
   ]
  },
  {
   "cell_type": "markdown",
   "metadata": {},
   "source": [
    "Durch die Berechnung von Deskriptoren können Sie die Anzahl der in Frage kommenden Moleküle reduzieren. Im nächsten Schritt werden Sie lernen, wie Sie die Auswahl mit einer Ähnlichkeitssuche weiter reduzieren können."
   ]
  },
  {
   "cell_type": "markdown",
   "metadata": {},
   "source": [
    "## Fingerabdrücke & Ähnlichkeitssuche\n",
    "\n",
    "RDKit kann auch verschiedene *molekulare Fingerabdrücke* berechnen. Dazu gehört der *Extended Connectivity Fingerprint* (ECFP), ursprünglich entwickelt von [Hahn et al.](https://pubs.acs.org/doi/10.1021/ci100050t) 2010. \n",
    "RDKit verfügt über eine modifizierte Version, die sie *Morgan Fingerprint* nennen.\n",
    "\n",
    "Sie können die Funktion `Chem.GetMorganFingerprint(mol,radius)` verwenden, um den ECFP zu berechnen. Um die Ähnlichkeit von Fingerabdrücken zu bewerten, bietet RDKit ebenfalls eine Funktion. Mit `DataStructs.TanimotoSimilarity(fp1,fp2)` kann zum Beispiel die Tanimoto Similarity berechnet werden.\n",
    "\n",
    "Sehr ähnliche (aber nicht unbedingt identische) Moleküle haben eine Tanimoto-Ähnlichkeit von `1.0` und sehr unähnliche Moleküle haben eine Tanimoto-Ähnlichkeit von `0.0`."
   ]
  },
  {
   "cell_type": "code",
   "execution_count": null,
   "metadata": {},
   "outputs": [],
   "source": [
    "from rdkit import DataStructs\n",
    "fp_sorafenib = Chem.GetMorganFingerprint(sorafenib,radius=2)\n",
    "fp_sorafenib"
   ]
  },
  {
   "cell_type": "markdown",
   "metadata": {},
   "source": [
    "Der Morganfingerprint wird nicht als reguläres `np.array` gespeichert. Aber in den nächsten Wochen werden Sie lernen, wie Sie auch die *normalen* Vektoren der Fingerabdrücke erhalten können.\n",
    "\n",
    "Sie haben den Fingerabdruck für Sorafenib berechnet, aber um die Ähnlichkeit zu berechnen, brauchen Sie auch die Fingerabdrücke der anderen Moleküle.\n",
    "\n",
    "*Schreibe eine `for-loop`, die den Fingerabdruck für alle Moleküle in `mols_subset` berechnet und sie als Liste in `fp_mols` speichert.*"
   ]
  },
  {
   "cell_type": "code",
   "execution_count": null,
   "metadata": {},
   "outputs": [],
   "source": [
    "fp_mols = [Chem.GetMorganFingerprint( ___ ,radius = 2) for __ in ___ ]"
   ]
  },
  {
   "cell_type": "markdown",
   "metadata": {},
   "source": [
    "<details>\n",
    "<summary><strong>Lösung. HIER klicken</strong></summary>\n",
    "\n",
    "```python\n",
    "    fp_mols = [Chem.GetMorganFingerprint( x ,radius = 2) for x in mols_subset]\n",
    "```\n",
    "</details>\n",
    "<br>\n",
    "Um die Similarity zu berechnen, verwenden Sie die oben beschriebene Funktion `TanimotoSimilarity(fp1, fp2)`\n",
    "\n",
    "\n",
    "\n"
   ]
  },
  {
   "cell_type": "code",
   "execution_count": null,
   "metadata": {},
   "outputs": [],
   "source": [
    "DataStructs.TanimotoSimilarity(fp_sorafenib,fp_mols[5])"
   ]
  },
  {
   "cell_type": "markdown",
   "metadata": {},
   "source": [
    "Schreiben Sie einen `for-loop` der für jedes Moleküle in `fp_mols` die Similarity zu Sorafenib berechnet."
   ]
  },
  {
   "cell_type": "code",
   "execution_count": null,
   "metadata": {},
   "outputs": [],
   "source": [
    "sorafenib_similarity = [DataStructs.TanimotoSimilarity(___ , ___ ) for x in ____]\n",
    "sorafenib_similarity"
   ]
  },
  {
   "cell_type": "markdown",
   "metadata": {},
   "source": [
    "<details>\n",
    "<summary><strong>Lösung. HIER klicken</strong></summary>\n",
    "\n",
    "```python\n",
    "    sorafenib_similarity=[DataStructs.TanimotoSimilarity(fp_sorafenib, x) for x in fp_mols]\n",
    "\n",
    "```\n",
    "</details>\n",
    "<br>\n"
   ]
  },
  {
   "cell_type": "code",
   "execution_count": null,
   "metadata": {},
   "outputs": [],
   "source": [
    "Draw.MolsToGridImage(mols_subset,legends = [str(x) for x in sorafenib_similarity],subImgSize=(300, 300))"
   ]
  },
  {
   "cell_type": "markdown",
   "metadata": {},
   "source": [
    "Oben sehen Sie die Ähnlichkeit der einzelnen Moleküle mit Sorafenib. Eine häufig verwendete Faustregel besagt, dass die Moleküle ab einer Ähnlichkeit von 0,8 ähnlich genug sind, um als relevante Alternative betrachtet zu werden. In unserem Fall bedeutet dies, dass wir nur ein Molekül testen würden. Das Molekül mit einer Ähnlichkeit von `0,7959...` würde wahrscheinlich immer noch als relevant angesehen werden.\n",
    "Grundsätzlich wird eine Ähnlichkeitssuche oft verwendet, um den Raum der relevanten Moleküle einzugrenzen.\n",
    "\n",
    "Ein medizinischer Chemiker könnte wahrscheinlich auch ohne Computer aus neun Molekülen die relevantesten heraussuchen. Der wirkliche Vorteil des Computers wird erst deutlich, wenn man einen Pool von mehreren Millionen Molekülen hat. Der Code würde genau so funktionieren, man müsste nur die zusätzlichen SMILES am Anfang des Notizbuchs einlesen.\n"
   ]
  },
  {
   "cell_type": "markdown",
   "metadata": {},
   "source": [
    "## Übungsaufgabe: Alternativen zum Norfloxacin Antibiotikum\n",
    "\n",
    "**Zur Benotung einreichen!**\n",
    "\n",
    "Als etwas anspruchsvollere Aufgabe sollen Sie nun das bisher Gelernte noch einmal selbstständig anwenden. \n",
    "Im Grunde ist die Aufgabe den vorherigen sehr ähnlich, aber Sie werden weniger Hilfe erhalten.\n",
    "Suchen Sie zunächst den SMILES-`string` für Norfloxacin bei [PubChem](https://pubchem.ncbi.nlm.nih.gov/). Konvertieren Sie dann die Zeichenkette in das `mol`-Format und lassen Sie sich das Moleküle anzeigen.\n",
    "\n",
    "> \"Norfloxacin ist ein synthetisches Breitband-Antibiotikum aus der Gruppe der Gyrasehemmer zur oralen Einnahme.\" \n",
    "\n",
    "Source: [Wikipedia](https://de.wikipedia.org/wiki/Norfloxacin)\n"
   ]
  },
  {
   "cell_type": "code",
   "execution_count": null,
   "metadata": {},
   "outputs": [],
   "source": [
    "# Wenn Sie diese Aufgabe zu einem späteren Zeitpunkt erledigen, können Sie diese Zelle verwenden, \n",
    "# um die erforderlichen Bibliotheken auf einmal zu importieren\n",
    "from rdkit.Chem import AllChem as Chem\n",
    "from rdkit.Chem import Draw\n",
    "from rdkit.Chem.Descriptors import MolWt \n",
    "from rdkit.Chem.Crippen import MolLogP\n",
    "from rdkit.Chem.Lipinski import NumHAcceptors, NumHDonors\n",
    "from rdkit import DataStructs"
   ]
  },
  {
   "cell_type": "code",
   "execution_count": null,
   "metadata": {},
   "outputs": [],
   "source": [
    "norfloxacin = \"CCN1C=C(C(=O)C2=CC(=C(C=C21)N3CCNCC3)F)C(=O)O\"\n",
    "# konvertieren Sie den string zum mol Format\n",
    "norfloxacin = \n",
    "# lassen Sie sich das Molekül anzeigen\n",
    "norfloxacin"
   ]
  },
  {
   "cell_type": "markdown",
   "metadata": {},
   "source": [
    "Berechnen Sie anschließend die Deskriptoren für Norfloxacin, die für die *Lipinski's Rule of Five* wichtig sind."
   ]
  },
  {
   "cell_type": "code",
   "execution_count": null,
   "metadata": {},
   "outputs": [],
   "source": [
    "# Berechnen Sie MW\n",
    "MW_norfloxacin = \n",
    "\n",
    "# Berechnen Sie die Anzahl an H-Brücken Akzeptoren\n",
    "NumHAcceptors_norfloxacin = \n",
    "\n",
    "# Berechnen Sie die Anzahl an H-Brücken Donoren\n",
    "NumHDonors_norfloxacin = \n",
    "\n",
    "# Berechen Sie logP\n",
    "logP_norfloxacin = "
   ]
  },
  {
   "cell_type": "markdown",
   "metadata": {},
   "source": [
    "Die nächste Zelle gibt Ihnen die berechneten Deskriptoren aus:"
   ]
  },
  {
   "cell_type": "code",
   "execution_count": null,
   "metadata": {},
   "outputs": [],
   "source": [
    "print(\"MW:\", MW_norfloxacin)\n",
    "print(\"NumHAcceptors\", NumHAcceptors_norfloxacin)\n",
    "print(\"NumHDonors\", NumHDonors_norfloxacin)\n",
    "print(\"LogP\",logP_norfloxacin)"
   ]
  },
  {
   "cell_type": "markdown",
   "metadata": {},
   "source": [
    "Eine Vorauswahl möglicher Norfloxacin-Alternativen ist in der nächsten Zelle aufgeführt. Konvertieren Sie die SMILES in das `mol`-Format und berechnen Sie anschließend die Deskriptoren. Am einfachsten geht das mit der oben mehrfach verwendeten Notation `List = [Function(x) for x in OtherList]`."
   ]
  },
  {
   "cell_type": "code",
   "execution_count": null,
   "metadata": {},
   "outputs": [],
   "source": [
    "# Vergessen Sie nicht, zuerst diese Zelle auszuführen.\n",
    "quinolones = [\"C1CC1N2C=C(C(=O)C3=CC(=C(C=C32)N4CCNCC4)F)C(=O)O\",\n",
    "             \"CN1CCN(CC1)C2=C(C=C3C(=C2F)N(C=C(C3=O)C(=O)O)CCF)F\",\n",
    "             \"CCN1C=C(C(=O)C2=CC(=C(C(=C21)F)N3CCNC(C3)C)F)C(=O)O\",\n",
    "             \"CC1CCC2=C3N1C=C(C(=O)C3=CC(=C2N4CCC(CC4)O)F)C(=O)O\",\n",
    "             \"CC1COC2=C3N1C=C(C(=O)C3=CC(=C2N4CCN(CC4)C)F)C(=O)O\"\n",
    "             \"CCN1C=C(C(=O)C2=CC(=C(C=C21)N3CCN(CC3)C)F)C(=O)O\",\n",
    "             \"CN1CCN(CC1)C2=C(C=C3C4=C2SCCN4C=C(C3=O)C(=O)O)F\",\n",
    "             \"CCN1C=C(C(=O)C2=CC(=C(N=C21)N3CCNCC3)F)C(=O)O\",\n",
    "             \"CNC1CCCN(C1)C2=C(C=C3C(=C2OC)N(C=C(C3=O)C(=O)O)C4CC4)F\",\n",
    "             \"CC1CN(CCN1)C2=C(C(=C3C(=C2)N(C=C(C3=O)C(=O)O)C4CC4)C)F\",\n",
    "             \"C[C@H]1COC2=C3N1C=C(C(=O)C3=CC(=C2N4CCN(CC4)C)F)C(=O)O\",\n",
    "             \"C[C@H]1COC2=C3N1C=C(C(=O)C3=CC(=C2C4(CC4)N)F)C(=O)O\",\n",
    "             \"C[C@@H]1CN(C[C@@H](N1)C)C2=C(C(=C3C(=C2F)N(C=C(C3=O)C(=O)O)C4CC4)N)F\",\n",
    "             \"CC1CN(CCN1)C2=C(C=C3C(=C2)N(C=C(C3=O)C(=O)O)C4=C(C=C(C=C4)F)F)F\",\n",
    "             \"C1CN(CC1N)C2=C(C=C3C(=O)C(=CN(C3=N2)C4=C(C=C(C=C4)F)F)C(=O)O)F\"]"
   ]
  },
  {
   "cell_type": "code",
   "execution_count": null,
   "metadata": {},
   "outputs": [],
   "source": [
    "# Formen Sie die Strings zum mol Format um \n",
    "quinolones = "
   ]
  },
  {
   "cell_type": "code",
   "execution_count": null,
   "metadata": {},
   "outputs": [],
   "source": [
    "# Berechnen Sie hier die vier Deskriptoren für alle Moleküle der Liste\n",
    "MW_quinolones = \n",
    "NumHAcceptors_quinolones = \n",
    "NumHDonors_quinolones = \n",
    "logP_quinolones = "
   ]
  },
  {
   "cell_type": "markdown",
   "metadata": {},
   "source": [
    "In der folgenden Zelle können Sie die Moleküle mit den berechneten Deskriptoren anzeigen. Sie müssen dabei nicht unbedingt den Code nachvollziehen können. \n",
    "\n",
    "Sie müssen die Werte selbst ablesen. (`Strg` + Mausrad zum vergrößern.)"
   ]
  },
  {
   "cell_type": "code",
   "execution_count": null,
   "metadata": {
    "scrolled": true
   },
   "outputs": [],
   "source": [
    "legend = []\n",
    "for i in range(len(MW_quinolones)):\n",
    "    legend.append(\"MW: \"+str(round(MW_quinolones[i]))+\"\\n\"+\n",
    "                 \"NumHAcceptors: \"+str(NumHAcceptors_quinolones[i])+\"\\n\"+\n",
    "                 \"NumHDonors: \"+str(NumHDonors_quinolones[i])+\"\\n\"+\n",
    "                 \"logP: \"+str(round(logP_quinolones[i], 4)))\n",
    "\n",
    "Draw.MolsToGridImage(quinolones, molsPerRow=3, legends = legend,\n",
    "                    subImgSize=(250,150), useSVG=True)"
   ]
  },
  {
   "cell_type": "markdown",
   "metadata": {},
   "source": [
    "Da praktisch alle Moleküle der *Lipinski's Rule of Five* folgen, verzichten wir an dieser Stelle darauf, Moleküle aus unserer Datenbank zu entfernen und berechnen stattdessen direkt die Ähnlichkeit zu Norfloxacin. Dazu müssen zunächst die Fingerabdrücke und dann die Tanimoto-Ähnlichkeit berechnet werden."
   ]
  },
  {
   "cell_type": "code",
   "execution_count": null,
   "metadata": {},
   "outputs": [],
   "source": [
    "# Berechnen Sie zuerst die Fingerprints der Quinolone und von Norfloxacin\n",
    "norfloxacin_fp = \n",
    "quinolones_fp = "
   ]
  },
  {
   "cell_type": "markdown",
   "metadata": {},
   "source": [
    "Berechnen Sie nun die Ähnlichkeiten der `quinolones` mit Norfloxacin. \n",
    "\n",
    "In der Zelle unten können Sie die Ähnlichkeiten anzeigen."
   ]
  },
  {
   "cell_type": "code",
   "execution_count": null,
   "metadata": {},
   "outputs": [],
   "source": [
    "quinolones_similarity = "
   ]
  },
  {
   "cell_type": "code",
   "execution_count": null,
   "metadata": {},
   "outputs": [],
   "source": [
    "Draw.MolsToGridImage(quinolones, legends = [str(round(x, 2)) for x in quinolones_similarity],\n",
    "                    subImgSize=(250,200), useSVG=True)"
   ]
  },
  {
   "cell_type": "markdown",
   "metadata": {},
   "source": [
    "Wie Sie sehen können, sind die meisten Moleküle Norfloxacin nicht besonders ähnlich (zumindest laut der Tanimoto Similarity). Tatsächlich handelt es sich jedoch bei jedem der Moleküle um Breitbandantibiotika, die zumindest in der Vergangenheit verfügbar waren. Daher kann man sich nicht allein auf die Ähnlichkeit zwischen den Molekülen verlassen, um auf die Aktivität zu schließen."
   ]
  }
 ],
 "metadata": {
  "kernelspec": {
   "display_name": "Python 3 (ipykernel)",
   "language": "python",
   "name": "python3"
  },
  "language_info": {
   "codemirror_mode": {
    "name": "ipython",
    "version": 3
   },
   "file_extension": ".py",
   "mimetype": "text/x-python",
   "name": "python",
   "nbconvert_exporter": "python",
   "pygments_lexer": "ipython3",
   "version": "3.7.11"
  }
 },
 "nbformat": 4,
 "nbformat_minor": 4
}
